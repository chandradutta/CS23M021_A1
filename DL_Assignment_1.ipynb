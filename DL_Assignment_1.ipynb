{
  "cells": [
    {
      "cell_type": "markdown",
      "metadata": {
        "id": "view-in-github",
        "colab_type": "text"
      },
      "source": [
        "<a href=\"https://colab.research.google.com/github/chandradutta/CS23M021_A1/blob/master/DL_Assignment_1.ipynb\" target=\"_parent\"><img src=\"https://colab.research.google.com/assets/colab-badge.svg\" alt=\"Open In Colab\"/></a>"
      ]
    },
    {
      "cell_type": "code",
      "execution_count": 1,
      "metadata": {
        "colab": {
          "base_uri": "https://localhost:8080/",
          "height": 784
        },
        "id": "TFo9z6W_0uLZ",
        "outputId": "4ed86a3e-bb6a-4817-a5a2-6b4a6ecb2906"
      },
      "outputs": [
        {
          "output_type": "stream",
          "name": "stdout",
          "text": [
            "Collecting wandb\n",
            "  Downloading wandb-0.16.4-py3-none-any.whl (2.2 MB)\n",
            "\u001b[2K     \u001b[90m━━━━━━━━━━━━━━━━━━━━━━━━━━━━━━━━━━━━━━━━\u001b[0m \u001b[32m2.2/2.2 MB\u001b[0m \u001b[31m6.0 MB/s\u001b[0m eta \u001b[36m0:00:00\u001b[0m\n",
            "\u001b[?25hRequirement already satisfied: Click!=8.0.0,>=7.1 in /usr/local/lib/python3.10/dist-packages (from wandb) (8.1.7)\n",
            "Collecting GitPython!=3.1.29,>=1.0.0 (from wandb)\n",
            "  Downloading GitPython-3.1.42-py3-none-any.whl (195 kB)\n",
            "\u001b[2K     \u001b[90m━━━━━━━━━━━━━━━━━━━━━━━━━━━━━━━━━━━━━━━━\u001b[0m \u001b[32m195.4/195.4 kB\u001b[0m \u001b[31m12.4 MB/s\u001b[0m eta \u001b[36m0:00:00\u001b[0m\n",
            "\u001b[?25hRequirement already satisfied: requests<3,>=2.0.0 in /usr/local/lib/python3.10/dist-packages (from wandb) (2.31.0)\n",
            "Requirement already satisfied: psutil>=5.0.0 in /usr/local/lib/python3.10/dist-packages (from wandb) (5.9.5)\n",
            "Collecting sentry-sdk>=1.0.0 (from wandb)\n",
            "  Downloading sentry_sdk-1.42.0-py2.py3-none-any.whl (263 kB)\n",
            "\u001b[2K     \u001b[90m━━━━━━━━━━━━━━━━━━━━━━━━━━━━━━━━━━━━━━━━\u001b[0m \u001b[32m263.5/263.5 kB\u001b[0m \u001b[31m6.7 MB/s\u001b[0m eta \u001b[36m0:00:00\u001b[0m\n",
            "\u001b[?25hCollecting docker-pycreds>=0.4.0 (from wandb)\n",
            "  Downloading docker_pycreds-0.4.0-py2.py3-none-any.whl (9.0 kB)\n",
            "Requirement already satisfied: PyYAML in /usr/local/lib/python3.10/dist-packages (from wandb) (6.0.1)\n",
            "Collecting setproctitle (from wandb)\n",
            "  Downloading setproctitle-1.3.3-cp310-cp310-manylinux_2_5_x86_64.manylinux1_x86_64.manylinux_2_17_x86_64.manylinux2014_x86_64.whl (30 kB)\n",
            "Requirement already satisfied: setuptools in /usr/local/lib/python3.10/dist-packages (from wandb) (67.7.2)\n",
            "Requirement already satisfied: appdirs>=1.4.3 in /usr/local/lib/python3.10/dist-packages (from wandb) (1.4.4)\n",
            "Requirement already satisfied: protobuf!=4.21.0,<5,>=3.19.0 in /usr/local/lib/python3.10/dist-packages (from wandb) (3.20.3)\n",
            "Requirement already satisfied: six>=1.4.0 in /usr/local/lib/python3.10/dist-packages (from docker-pycreds>=0.4.0->wandb) (1.16.0)\n",
            "Collecting gitdb<5,>=4.0.1 (from GitPython!=3.1.29,>=1.0.0->wandb)\n",
            "  Downloading gitdb-4.0.11-py3-none-any.whl (62 kB)\n",
            "\u001b[2K     \u001b[90m━━━━━━━━━━━━━━━━━━━━━━━━━━━━━━━━━━━━━━━━\u001b[0m \u001b[32m62.7/62.7 kB\u001b[0m \u001b[31m5.2 MB/s\u001b[0m eta \u001b[36m0:00:00\u001b[0m\n",
            "\u001b[?25hRequirement already satisfied: charset-normalizer<4,>=2 in /usr/local/lib/python3.10/dist-packages (from requests<3,>=2.0.0->wandb) (3.3.2)\n",
            "Requirement already satisfied: idna<4,>=2.5 in /usr/local/lib/python3.10/dist-packages (from requests<3,>=2.0.0->wandb) (3.6)\n",
            "Requirement already satisfied: urllib3<3,>=1.21.1 in /usr/local/lib/python3.10/dist-packages (from requests<3,>=2.0.0->wandb) (2.0.7)\n",
            "Requirement already satisfied: certifi>=2017.4.17 in /usr/local/lib/python3.10/dist-packages (from requests<3,>=2.0.0->wandb) (2024.2.2)\n",
            "Collecting smmap<6,>=3.0.1 (from gitdb<5,>=4.0.1->GitPython!=3.1.29,>=1.0.0->wandb)\n",
            "  Downloading smmap-5.0.1-py3-none-any.whl (24 kB)\n",
            "Installing collected packages: smmap, setproctitle, sentry-sdk, docker-pycreds, gitdb, GitPython, wandb\n",
            "Successfully installed GitPython-3.1.42 docker-pycreds-0.4.0 gitdb-4.0.11 sentry-sdk-1.42.0 setproctitle-1.3.3 smmap-5.0.1 wandb-0.16.4\n"
          ]
        },
        {
          "output_type": "display_data",
          "data": {
            "text/plain": [
              "<IPython.core.display.Javascript object>"
            ],
            "application/javascript": [
              "\n",
              "        window._wandbApiKey = new Promise((resolve, reject) => {\n",
              "            function loadScript(url) {\n",
              "            return new Promise(function(resolve, reject) {\n",
              "                let newScript = document.createElement(\"script\");\n",
              "                newScript.onerror = reject;\n",
              "                newScript.onload = resolve;\n",
              "                document.body.appendChild(newScript);\n",
              "                newScript.src = url;\n",
              "            });\n",
              "            }\n",
              "            loadScript(\"https://cdn.jsdelivr.net/npm/postmate/build/postmate.min.js\").then(() => {\n",
              "            const iframe = document.createElement('iframe')\n",
              "            iframe.style.cssText = \"width:0;height:0;border:none\"\n",
              "            document.body.appendChild(iframe)\n",
              "            const handshake = new Postmate({\n",
              "                container: iframe,\n",
              "                url: 'https://wandb.ai/authorize'\n",
              "            });\n",
              "            const timeout = setTimeout(() => reject(\"Couldn't auto authenticate\"), 5000)\n",
              "            handshake.then(function(child) {\n",
              "                child.on('authorize', data => {\n",
              "                    clearTimeout(timeout)\n",
              "                    resolve(data)\n",
              "                });\n",
              "            });\n",
              "            })\n",
              "        });\n",
              "    "
            ]
          },
          "metadata": {}
        },
        {
          "output_type": "stream",
          "name": "stderr",
          "text": [
            "\u001b[34m\u001b[1mwandb\u001b[0m: Logging into wandb.ai. (Learn how to deploy a W&B server locally: https://wandb.me/wandb-server)\n",
            "\u001b[34m\u001b[1mwandb\u001b[0m: You can find your API key in your browser here: https://wandb.ai/authorize\n",
            "wandb: Paste an API key from your profile and hit enter, or press ctrl+c to quit:"
          ]
        },
        {
          "name": "stdout",
          "output_type": "stream",
          "text": [
            " ··········\n"
          ]
        },
        {
          "output_type": "stream",
          "name": "stderr",
          "text": [
            "\u001b[34m\u001b[1mwandb\u001b[0m: Appending key for api.wandb.ai to your netrc file: /root/.netrc\n",
            "\u001b[34m\u001b[1mwandb\u001b[0m: Currently logged in as: \u001b[33mchandraduttamamidi\u001b[0m (\u001b[33mcs23m021\u001b[0m). Use \u001b[1m`wandb login --relogin`\u001b[0m to force relogin\n"
          ]
        },
        {
          "output_type": "display_data",
          "data": {
            "text/plain": [
              "<IPython.core.display.HTML object>"
            ],
            "text/html": [
              "Tracking run with wandb version 0.16.4"
            ]
          },
          "metadata": {}
        },
        {
          "output_type": "display_data",
          "data": {
            "text/plain": [
              "<IPython.core.display.HTML object>"
            ],
            "text/html": [
              "Run data is saved locally in <code>/content/wandb/run-20240317_050229-fkwu0o4n</code>"
            ]
          },
          "metadata": {}
        },
        {
          "output_type": "display_data",
          "data": {
            "text/plain": [
              "<IPython.core.display.HTML object>"
            ],
            "text/html": [
              "Syncing run <strong><a href='https://wandb.ai/cs23m021/DL_Assignment_1/runs/fkwu0o4n' target=\"_blank\">fast-disco-6</a></strong> to <a href='https://wandb.ai/cs23m021/DL_Assignment_1' target=\"_blank\">Weights & Biases</a> (<a href='https://wandb.me/run' target=\"_blank\">docs</a>)<br/>"
            ]
          },
          "metadata": {}
        },
        {
          "output_type": "display_data",
          "data": {
            "text/plain": [
              "<IPython.core.display.HTML object>"
            ],
            "text/html": [
              " View project at <a href='https://wandb.ai/cs23m021/DL_Assignment_1' target=\"_blank\">https://wandb.ai/cs23m021/DL_Assignment_1</a>"
            ]
          },
          "metadata": {}
        },
        {
          "output_type": "display_data",
          "data": {
            "text/plain": [
              "<IPython.core.display.HTML object>"
            ],
            "text/html": [
              " View run at <a href='https://wandb.ai/cs23m021/DL_Assignment_1/runs/fkwu0o4n' target=\"_blank\">https://wandb.ai/cs23m021/DL_Assignment_1/runs/fkwu0o4n</a>"
            ]
          },
          "metadata": {}
        },
        {
          "output_type": "execute_result",
          "data": {
            "text/html": [
              "<button onClick=\"this.nextSibling.style.display='block';this.style.display='none';\">Display W&B run</button><iframe src='https://wandb.ai/cs23m021/DL_Assignment_1/runs/fkwu0o4n?jupyter=true' style='border:none;width:100%;height:420px;display:none;'></iframe>"
            ],
            "text/plain": [
              "<wandb.sdk.wandb_run.Run at 0x797ef7130190>"
            ]
          },
          "metadata": {},
          "execution_count": 1
        }
      ],
      "source": [
        "#installing wandb\n",
        "!pip install wandb\n",
        "import wandb\n",
        "from wandb.keras import WandbCallback\n",
        "import socket\n",
        "socket.setdefaulttimeout(30)\n",
        "wandb.login()\n",
        "wandb.init(project='DL_Assignment_1')"
      ]
    },
    {
      "cell_type": "code",
      "execution_count": 2,
      "metadata": {
        "colab": {
          "base_uri": "https://localhost:8080/",
          "height": 487
        },
        "id": "mwNOjXk8_NdV",
        "outputId": "b37265cc-f837-4b1f-f8a7-155f05b8dfba"
      },
      "outputs": [
        {
          "output_type": "stream",
          "name": "stdout",
          "text": [
            "Downloading data from https://storage.googleapis.com/tensorflow/tf-keras-datasets/train-labels-idx1-ubyte.gz\n",
            "29515/29515 [==============================] - 0s 0us/step\n",
            "Downloading data from https://storage.googleapis.com/tensorflow/tf-keras-datasets/train-images-idx3-ubyte.gz\n",
            "26421880/26421880 [==============================] - 0s 0us/step\n",
            "Downloading data from https://storage.googleapis.com/tensorflow/tf-keras-datasets/t10k-labels-idx1-ubyte.gz\n",
            "5148/5148 [==============================] - 0s 0us/step\n",
            "Downloading data from https://storage.googleapis.com/tensorflow/tf-keras-datasets/t10k-images-idx3-ubyte.gz\n",
            "4422102/4422102 [==============================] - 0s 0us/step\n"
          ]
        },
        {
          "output_type": "display_data",
          "data": {
            "text/plain": [
              "<Figure size 1000x1000 with 10 Axes>"
            ],
            "image/png": "[encoded data removed]"
          },
          "metadata": {}
        }
      ],
      "source": [
        "# import wandb\n",
        "import matplotlib.pyplot as plt\n",
        "from keras.datasets import fashion_mnist\n",
        "\n",
        "# wandb.init(project=\"fashion-mnist-sample-images\")\n",
        "\n",
        "# Load the Fashion-MNIST dataset\n",
        "(x_train, y_train), (x_test,y_test) = fashion_mnist.load_data()\n",
        "# print (len(train_images[0]))\n",
        "\n",
        "\n",
        "# Defining class names\n",
        "class_names = ['T-shirt/top', 'Trouser', 'Pullover', 'Dress', 'Coat',\n",
        "               'Sandal', 'Shirt', 'Sneaker', 'Bag', 'Ankle boot']\n",
        "\n",
        "plt.figure(figsize=(10, 10))\n",
        "for i in range(len(class_names)):\n",
        "    idx = next(idx for idx, label in enumerate(y_train) if label == i)\n",
        "    plt.subplot(5, 5, i + 1)\n",
        "    plt.xticks([])\n",
        "    plt.yticks([])\n",
        "    plt.grid(False)\n",
        "    plt.imshow(x_train[idx], cmap=plt.cm.binary)\n",
        "    plt.xlabel(class_names[i])\n",
        "    # wandb.log({f\"example_{class_names[i]}\": [wandb.Image(x_train[idx], caption=class_names[i])]})\n",
        "\n",
        "# wandb.finish()\n"
      ]
    },
    {
      "cell_type": "code",
      "execution_count": 3,
      "metadata": {
        "id": "0FEnDlmDdn7r"
      },
      "outputs": [],
      "source": [
        "# turn the data into an appropriate matrix form\n",
        "import numpy as np\n",
        "# x_train = np.reshape(x_train, (60000, 784, 1))\n",
        "# y_train = np.reshape(y_train, (60000, 1))\n",
        "x_train = x_train / 255"
      ]
    },
    {
      "cell_type": "code",
      "execution_count": 4,
      "metadata": {
        "id": "6ZixR1HktPIB"
      },
      "outputs": [],
      "source": [
        "import numpy as np\n",
        "def sigmoid(z):\n",
        "    clipped_z=np.clip(z,-500, 500)\n",
        "    return 1 / (1 + np.exp(-clipped_z))\n",
        "\n",
        "def softmax(z):\n",
        "    # z=np.clip(z,-500,+500)\n",
        "    eps = 1e-6\n",
        "    return (np.exp(z-max(z)) / (sum(np.exp(z-max(z))) + eps))\n",
        "def tanh(z):\n",
        "  clipped_z = np.clip(z, -50, 50)\n",
        "  return np.tanh(clipped_z)\n",
        "def tanh_derivative(z):\n",
        "  return 1-np.tanh(z)**2\n",
        "def relu(Z):\n",
        "    A = np.maximum(0, Z)\n",
        "    return A\n",
        "def relu_derivative(z):\n",
        "  return np.where(z>0,1,0)\n",
        "def sigmoid_derivative(z):\n",
        "    return sigmoid(z) * (1 - sigmoid(z))\n",
        "def tanh_derivative(z):\n",
        "  return 1-np.tanh(z)**2\n",
        "def compute_loss_gradient(y, y_pred,L_fun):\n",
        "   if(L_fun==\"cross_entropy\"):\n",
        "    yt=np.zeros((10,1))\n",
        "    # print(y)\n",
        "    # print(yt)\n",
        "    yt[y]=1\n",
        "    l=-np.subtract(yt,y_pred)\n",
        "    # print(yt)\n",
        "    # return -(yt - y_pred)\n",
        "   else:\n",
        "     l= (y_pred-y)*(y_pred)*(1-y_pred)\n",
        "   return l"
      ]
    },
    {
      "cell_type": "code",
      "execution_count": 5,
      "metadata": {
        "id": "4rYseaZJ4TQD"
      },
      "outputs": [],
      "source": [
        "def weights(num_of_layers,n):\n",
        "  ws=[]\n",
        "  ns=[]\n",
        "  bs=[]\n",
        "  # for i in range(num_of_layers):\n",
        "  #   ns.append(int(input()))\n",
        "  # return ns\n",
        "  ws.append(0.01*np.random.randn(n,784))\n",
        "  bs.append(0.01*np.random.randn(n,1))\n",
        "  for i in range(1,num_of_layers):\n",
        "    ws.append(0.01*np.random.randn(n,n))\n",
        "    bs.append(0.01*np.random.randn(n,1))\n",
        "  ws.append(0.01*np.random.randn(10,n))\n",
        "  bs.append(0.01*np.random.randn(10,1))\n",
        "  return ws,bs\n",
        "\n",
        "def xavier_weights(num_of_layers,n):\n",
        "  ws=[]\n",
        "  ns=[]\n",
        "  bs=[]\n",
        "  # for i in range(num_of_layers):\n",
        "  #   ns.append(int(input()))\n",
        "  # return ns\n",
        "  ws.append(0.01*np.random.randn(n,784))\n",
        "  bs.append(np.zeros((n,1)))\n",
        "  for i in range(1,num_of_layers):\n",
        "    ws.append(0.01*np.random.randn(n,n))\n",
        "    bs.append(np.zeros((n,1)))\n",
        "  ws.append(0.01*np.random.randn(10,n))\n",
        "  bs.append(np.zeros((10,1)))\n",
        "  return ws,bs\n",
        "# def weight_intialization_Xavier(no_of_layers,no_neurons_per_layer):\n",
        "#   w_s_xavier=[]\n",
        "#   b_s_xavier=[]\n",
        "#   w_s_xavier.append((np.random.randn(no_neurons_per_layer,784)))\n",
        "#   b_s_xavier.append(np.zeros((no_neurons_per_layer,1)))\n",
        "#   for i in range(1,no_of_layers):\n",
        "#     w_s_xavier.append((np.random.randn(no_neurons_per_layer,no_neurons_per_layer)))\n",
        "#     b_s_xavier.append(np.zeros((no_neurons_per_layer,1)))\n",
        "#   w_s_xavier.append((np.random.randn(10,no_neurons_per_layer)))\n",
        "#   b_s_xavier.append(np.zeros((10,1)))\n",
        "#   # print(w_s_xavier[i].shape for i in range(len(w_s_xavier)))\n",
        "#   # print(b_s_xavier[i].shape for i in range(len(b_s_xavier)))\n",
        "#   return w_s_xavier,b_s_xavier"
      ]
    },
    {
      "cell_type": "code",
      "execution_count": 42,
      "metadata": {
        "id": "JjhZDt7qPQEG"
      },
      "outputs": [],
      "source": [
        "\n",
        "\n",
        "\n",
        "def forward_propagation(X, ws, bs,activationfun):\n",
        "    activations = []\n",
        "    pre_activations = []\n",
        "    sum=[]\n",
        "    a = X.flatten().reshape(784,1)\n",
        "    activations.append(a)\n",
        "    for i in range(len(ws) - 1):\n",
        "        z = np.dot(ws[i], a) + bs[i]\n",
        "        pre_activations.append(z)\n",
        "        if activationfun == 'tanh':\n",
        "           a = np.tanh(z)\n",
        "        elif activationfun=='sigmoid':\n",
        "           a = sigmoid(z)\n",
        "        else:\n",
        "           a=relu(z)\n",
        "        # activations.append(a)\n",
        "        activations.append(a)\n",
        "\n",
        "    # Last layer with softmax activation\n",
        "    z_last = np.dot(ws[-1], a) + bs[-1]\n",
        "    pre_activations.append(z_last)\n",
        "    # print(pre_activations[-1].shape)\n",
        "    a_last = softmax(z_last)\n",
        "    # print(a_last.shape)\n",
        "    sum.append(a_last)\n",
        "    activations.append(a_last)\n",
        "    # print(pre_activations[0].shape,pre_activations[1].shape,pre_activations[2].shape)\n",
        "    # print(activations[0].shape,activations[1].shape,activations[2].shape,activations[3].shape)\n",
        "    # print(theta_w[0].shape,theta_w[1].shape,theta_w[2].shape)\n",
        "    # print(theta_b[0].shape,theta_b[1].shape,theta_b[2].shape)\n",
        "\n",
        "\n",
        "    return activations, pre_activations\n",
        "\n",
        "# num_of_layers=int(input())\n",
        "# theta_w,theta_b=weights(num_of_layers)\n",
        "# activations, pre_activations= forward_propagation(x_train[1], theta_w, theta_b)\n",
        "# gradient_descent(theta_w,theta_b,x_train,y_train,0.01,5)\n",
        "\n",
        "# all_activations = []\n",
        "# all_pre_activations = []\n",
        "# all_sum = []\n",
        "\n",
        "# for sample in x_train:\n",
        "#     # Perform forward propagation for the current sample\n",
        "#     activations, pre_activations, sum = forward_propagation(sample, theta_w, theta_b)\n",
        "\n",
        "#     # Append the results to the respective lists\n",
        "#     all_activations.append(activations)\n",
        "#     all_pre_activations.append(pre_activations)\n",
        "#     all_sum.append(sum)\n",
        "# total_sum = np.sum(all_sum)\n",
        "# print(\"Sum of all values:\", total_sum)"
      ]
    },
    {
      "cell_type": "code",
      "execution_count": 43,
      "metadata": {
        "id": "kSd0dWsLj4f_"
      },
      "outputs": [],
      "source": [
        "\n",
        "# def backpropagation(X, y, activations, pre_activations, theta_w, theta_b):\n",
        "#     # num_layers = len(activations)\n",
        "#     # num_samples = X.shape[1]\n",
        "\n",
        "#     gradients_weights = []\n",
        "#     gradients_biases = []\n",
        "\n",
        "#     # Compute output gradient\n",
        "#     output_gradient = compute_loss_gradient(y, activations[-1])\n",
        "#     print(output_gradient.shape)\n",
        "\n",
        "#     # Backpropagate the gradients\n",
        "#     for k in range(2, -1, -1):\n",
        "#         # Compute gradients w.r.t. parameters\n",
        "#         gradients_weights.append(np.matmul(output_gradient, activations[k].T))\n",
        "#         print(output_gradient.shape,activations[k].T.shape)\n",
        "#         gradients_biases.append(output_gradient)\n",
        "#         # Compute gradients w.r.t. layer below\n",
        "#         hidden_gradient = np.matmul(theta_w[k].T, output_gradient)\n",
        "#         # print(hidden_gradient.shape)\n",
        "#         # Compute gradients w.r.t. layer below (pre-activation)\n",
        "#         if k > 1:\n",
        "#             activation_derivative = sigmoid_derivative(pre_activations[k-1])\n",
        "#             # print(activation_derivative.shape)\n",
        "#             output_gradient =np.matmul(hidden_gradient,activation_derivative)\n",
        "#         else:\n",
        "#             output_gradient = hidden_gradient\n",
        "def backpropagation(X, y, activations, pre_activations, theta_w, theta_b,activationfun,L_fun):\n",
        "    gradients_weights = []\n",
        "    gradients_biases = []\n",
        "\n",
        "    # Compute output gradient\n",
        "    output_gradient = compute_loss_gradient(y, activations[-1],L_fun)\n",
        "    # print(output_gradient.shape)\n",
        "    # Backpropagate the gradients\n",
        "\n",
        "    for k in range(len(pre_activations) - 1, -1, -1):\n",
        "        # Compute gradients w.r.t. parameters\n",
        "        # print(len(activations))\n",
        "        gradients_weights.append(np.matmul(output_gradient, activations[k].T))\n",
        "        gradients_biases.append(output_gradient)\n",
        "\n",
        "        # # Compute gradients w.r.t. layer below\n",
        "        # hidden_gradient = np.matmul(theta_w[k].T, output_gradient)\n",
        "\n",
        "        # Compute gradients w.r.t. layer below (pre-activation)\n",
        "        if k > 0:\n",
        "            # Compute gradients w.r.t. layer below\n",
        "            hidden_gradient = np.matmul(theta_w[k].T, output_gradient)\n",
        "            # print(hidden_gradient.shape)\n",
        "            if activationfun == 'tanh':\n",
        "                 activation_derivative = tanh_derivative(pre_activations[k-1])\n",
        "            elif activationfun=='sigmoid':\n",
        "                 activation_derivative = sigmoid_derivative(pre_activations[k-1])\n",
        "            else:\n",
        "                 activation_derivative = relu_derivative(pre_activations[k-1])\n",
        "            output_gradient = np.multiply(hidden_gradient, activation_derivative)\n",
        "\n",
        "        else:\n",
        "            output_gradient = hidden_gradient\n",
        "\n",
        "    # return gradients_weights, gradients_biases\n",
        "\n",
        "\n",
        "    return gradients_weights, gradients_biases"
      ]
    },
    {
      "cell_type": "code",
      "execution_count": 44,
      "metadata": {
        "id": "sqvJMUEEHyqA"
      },
      "outputs": [],
      "source": [
        "def accuracy(theta_w,theta_b,x_train,y_train,activationfun,split,L_fun):\n",
        "  accuracy=0\n",
        "  count=0\n",
        "  # squarred_error=0\n",
        "  for i in range(int(len(x_train)*(1-split))):\n",
        "    act,p_act=forward_propagation(x_train[i],theta_w,theta_b,activationfun)\n",
        "    if(np.argmax(act[-1])==y_train[i]):\n",
        "      accuracy+=1\n",
        "    temp=act[-1]\n",
        "    # if(L_fun==\"cross_entropy\"):\n",
        "    count=count-np.log(temp[y_train[i]])\n",
        "    # elif (L_fun==\"mean_squared_error\"):\n",
        "    #  count+=np.sum((y_train[i] -act[-1]) ** 2)\n",
        "  # return (accuracy/540),count/(54000)\n",
        "  return (accuracy/(int(len(x_train))))*100,count/(54000)\n",
        "\n",
        "def validation(theta_w,theta_b,x_train,y_train,activationfun,split,L_fun):\n",
        "  accuracy=0\n",
        "  count=0\n",
        "  start_index = int(len(x_train) * split)\n",
        "\n",
        "  for i in range(start_index, len(x_train)):\n",
        "    act,p_act=forward_propagation(x_train[i],theta_w,theta_b,activationfun)\n",
        "    if(np.argmax(act[-1])==y_train[i]):\n",
        "      accuracy+=1\n",
        "    temp=act[-1]\n",
        "    # if(L_fun==\"cross_entropy\"):\n",
        "    count=count-np.log(temp[y_train[i]])\n",
        "    # elif (L_fun==\"mean_squared_error\"):\n",
        "    #  count+=np.sum((y_train[i] -act[-1]) ** 2)\n",
        "  return (accuracy/(int(len(x_train))))*100,count/(54000)\n"
      ]
    },
    {
      "cell_type": "code",
      "execution_count": 45,
      "metadata": {
        "id": "VlN7od7b-r7m"
      },
      "outputs": [],
      "source": [
        "import numpy as np\n",
        "\n",
        "def do_mgd(max_epochs, X, Y, theta_w, theta_b, eta, beta,weight_decay,activationfun,split,batch_size,L_fun):\n",
        "    prev_dw = [np.zeros_like(w) for w in theta_w]  # Initialize previous gradients for weights\n",
        "    prev_db = [np.zeros_like(b) for b in theta_b]  # Initialize previous gradients for biases\n",
        "    beta=1\n",
        "    for epoch in range(max_epochs):\n",
        "        i = 0\n",
        "        dw = [0 for i in range(len(theta_w))]\n",
        "        db = [0 for i in range(len(theta_b))]\n",
        "        for k in range (int(60000*(1-split))):\n",
        "            activations, pre_activations= forward_propagation(x_train[k],theta_w,theta_b, activationfun)\n",
        "\n",
        "            # Backward propagation\n",
        "            a = x_train[k].flatten().reshape(784,1)\n",
        "\n",
        "            gradients_weights, gradients_biases = backpropagation(a,y_train[k],activations, pre_activations,theta_w,theta_b, activationfun,L_fun)\n",
        "            gradients_weights.reverse()\n",
        "            gradients_biases.reverse()\n",
        "\n",
        "            # Update weights and biases using momentum\n",
        "            for i in range(len(theta_w)):\n",
        "                dw[i] +=gradients_weights[i]  # Compute momentum-based gradient for weights\n",
        "                db[i] +=gradients_biases[i]  # Compute momentum-based gradient for biases\n",
        "\n",
        "            if(k+1)%batch_size==0:\n",
        "              # Update weights and biases\n",
        "              for i in range(len(theta_w)) :\n",
        "                # temp1=eta*dw[i]+(beta*prev_dw[i])\n",
        "                # temp2=eta*db[i]+(beta*prev_db[i])\n",
        "                prev_dw[i] = beta*prev_dw[i] + dw[i]\n",
        "                prev_db[i] = beta*prev_db[i] + db[i]\n",
        "                theta_w[i] -= (prev_dw[i]*eta)-(weight_decay*theta_w[i])\n",
        "                theta_b[i] -= prev_db[i]*eta\n",
        "                # print(theta_w[i][0][0])\n",
        "                # Update previous gradients for the next iteration\n",
        "\n",
        "        acc,loss=accuracy(theta_w,theta_b,x_train,y_train,activationfun,split,L_fun)\n",
        "        v_acc,v_loss=validation(theta_w,theta_b,x_train,y_train,activationfun,split,L_fun)\n",
        "        # print(acc)\n",
        "        wandb.log({\"Train_Accuracy\" : acc})\n",
        "        wandb.log({\"Train_Loss\" : loss})\n",
        "        wandb.log({\"Validation_acc\" : v_acc})\n",
        "        wandb.log({\"Validation_loss\" : v_loss})"
      ]
    },
    {
      "cell_type": "code",
      "execution_count": 46,
      "metadata": {
        "id": "Kv0la486Ka_0"
      },
      "outputs": [],
      "source": [
        "def do_rmsprop(max_epochs, X_train, y_train, theta_w, theta_b, eta, beta,weight_decay,activationfun,split,batch_size,L_fun):\n",
        "    # Initialization\n",
        "    v_dw = [np.zeros_like(w) for w in theta_w]  # Initialize squared gradients for weights\n",
        "    v_db = [np.zeros_like(b) for b in theta_b]  # Initialize squared gradients for biases\n",
        "    eps = 1e-4  # Small constant to prevent division by zero\n",
        "\n",
        "    for epoch in range(max_epochs):\n",
        "        d_w = [0 for i in range(len(theta_w))]\n",
        "        d_b = [0 for i in range(len(theta_b))]\n",
        "\n",
        "        for k in range (int(60000*(1-split))):\n",
        "            activations, pre_activations= forward_propagation(x_train[k],theta_w,theta_b, activationfun)\n",
        "\n",
        "            # Backward propagation\n",
        "            a = x_train[k].flatten().reshape(784,1)\n",
        "\n",
        "            gradients_weights, gradients_biases = backpropagation(a,y_train[k],activations, pre_activations,theta_w,theta_b, activationfun,L_fun)\n",
        "            gradients_weights.reverse()\n",
        "            gradients_biases.reverse()\n",
        "            # Compute squared gradients and update parameters\n",
        "\n",
        "            for i in range(len(theta_w)):\n",
        "                d_w[i] += gradients_weights[i]\n",
        "                d_b[i] += gradients_biases[i]\n",
        "\n",
        "                # v_dw[i] = beta * v_dw[i] + (1 - beta) * gradients_weights[i] ** 2  # RMSprop update for weights\n",
        "                # v_db[i] = beta * v_db[i] + (1 - beta) * gradients_biases[i] ** 2  # RMSprop update for biases\n",
        "\n",
        "\n",
        "            if(k+1)%batch_size==0:\n",
        "              v_dw[i] = (1 - beta) * (d_w[i] ** 2) + beta * v_dw[i]  # RMSprop update for weights\n",
        "              v_db[i] = (1 - beta) * (d_b[i] ** 2) + beta * v_db[i]\n",
        "              # Update weights and biases\n",
        "              theta_w[i] -= (eta * gradients_weights[i] / (np.sqrt(v_dw[i]) + eps))-weight_decay*theta_w[i]\n",
        "              theta_b[i] -= eta * gradients_biases[i] / (np.sqrt(v_db[i]) + eps)\n",
        "\n",
        "        acc,loss=accuracy(theta_w,theta_b,x_train,y_train,activationfun,split,L_fun)\n",
        "        v_acc,v_loss=validation(theta_w,theta_b,x_train,y_train,activationfun,split,L_fun)\n",
        "        # print(acc)\n",
        "        wandb.log({\"Train_Accuracy\" : acc})\n",
        "        wandb.log({\"Train_Loss\" : loss})\n",
        "        wandb.log({\"Validation_acc\" : v_acc})\n",
        "        wandb.log({\"Validation_loss\" : v_loss})\n"
      ]
    },
    {
      "cell_type": "code",
      "execution_count": 47,
      "metadata": {
        "id": "q_ECIj4fFobg"
      },
      "outputs": [],
      "source": [
        "# def do_nag(max_iterations, X_train, y_train, theta_w, theta_b, eta, beta,weight_decay,activationfun,split,batch_size,L_fun):\n",
        "#     prev_dw = [np.zeros_like(w) for w in theta_w]  # Initialize previous gradients for weights\n",
        "#     prev_db = [np.zeros_like(b) for b in theta_b]  # Initialize previous gradients for biases\n",
        "\n",
        "#     for j in range(max_iterations):\n",
        "#         for k in range (int(60000*(1-split))):\n",
        "\n",
        "#             lookahead_weights = [w - beta * prev_dw[i] for i, w in enumerate(theta_w)]\n",
        "#             lookahead_biases = [b - beta * prev_db[i] for i, b in enumerate(theta_b)]\n",
        "\n",
        "#             # Backward propagation\n",
        "#             a = x_train[k].flatten().reshape(784,1)\n",
        "\n",
        "#             # Forward propagation\n",
        "#             activations, pre_activations = forward_propagation(a, lookahead_weights, lookahead_biases,activationfun,L_fun)\n",
        "\n",
        "#             # Backward propagation\n",
        "#             gradients_weights, gradients_biases = backpropagation(a,y_train[k], activations, pre_activations, lookahead_weights, lookahead_biases,activationfun)\n",
        "#             gradients_weights.reverse()\n",
        "#             gradients_biases.reverse()\n",
        "\n",
        "#             # Update weights and biases\n",
        "#             for i in range(len(theta_w)):\n",
        "#                 dw[i] = beta * prev_dw[i] + eta * gradients_weights[i]  # Compute momentum-based gradient for weights\n",
        "#                 db[i] = beta * prev_db[i] + eta * gradients_biases[i]  # Compute momentum-based gradient for biases\n",
        "#                 if(k+1)%batch_size==0:\n",
        "#                  # Update weights and biases\n",
        "#                  theta_w[i] -= (dw)-weight_decay*theta_w[i]\n",
        "#                  theta_b[i] -= db\n",
        "\n",
        "#                  # Update previous gradients for the next iteration\n",
        "#                  prev_dw[i] = dw\n",
        "#                  prev_db[i] = db\n",
        "#         acc,loss=accuracy(theta_w,theta_b,x_train,y_train,activationfun,split,L_fun)\n",
        "#         v_acc,v_loss=validation(theta_w,theta_b,x_train,y_train,activationfun,split)\n",
        "#         wandb.log({\"Train_Accuracy\" : acc})\n",
        "#         wandb.log({\"Train_Loss\" : loss})\n",
        "#         wandb.log({\"Validation_acc\" : v_acc})\n",
        "#         wandb.log({\"Validation_loss\" : v_loss})\n",
        "def do_nag(max_iterations, X_train, y_train, theta_w, theta_b, eta, beta, weight_decay, activationfun, split, batch_size,L_fun):\n",
        "    prev_dw = [np.zeros_like(w) for w in theta_w]  # Initialize previous gradients for weights\n",
        "    prev_db = [np.zeros_like(b) for b in theta_b]  # Initialize previous gradients for biases\n",
        "\n",
        "    for j in range(max_iterations):\n",
        "        dw = [np.zeros_like(w) for w in theta_w]  # Initialize gradient for weights\n",
        "        db = [np.zeros_like(b) for b in theta_b]  # Initialize gradient for biases\n",
        "\n",
        "        for k in range(int(60000 * (1 - split))):\n",
        "\n",
        "            lookahead_weights = [theta_w[i] - beta * prev_dw[i] for i in range(len(theta_w))]\n",
        "            lookahead_biases = [theta_b[i] - beta * prev_db[i] for i in range(len(theta_b))]\n",
        "\n",
        "            # Backward propagation\n",
        "            a = X_train[k].flatten().reshape(784, 1)\n",
        "\n",
        "            # Forward propagation\n",
        "            activations, pre_activations = forward_propagation(a, lookahead_weights, lookahead_biases, activationfun)\n",
        "\n",
        "            # Backward propagation\n",
        "            gradients_weights, gradients_biases = backpropagation(a, y_train[k], activations, pre_activations, lookahead_weights, lookahead_biases, activationfun,L_fun)\n",
        "            gradients_weights.reverse()\n",
        "            gradients_biases.reverse()\n",
        "            # Update velocities\n",
        "\n",
        "            for i in range(len(theta_w)):\n",
        "\n",
        "                dw[i]+= gradients_weights[i]  # Compute momentum-based gradient for weights\n",
        "                db[i]+= gradients_biases[i]  # Compute momentum-based gradient for biases\n",
        "            # for i in range(len(theta_w)):\n",
        "            #     d_w[i] = beta * prev_dw[i] + eta * dw[i]  # Compute momentum-based gradient for weights\n",
        "            #     d_b[i] = beta * prev_db[i] + eta * db[i]  # Compute momentum-based gradient for biases\n",
        "            #     if(k+1)%batch_size==0:\n",
        "            # Update weights and biases\n",
        "            for i in range(len(theta_w)):\n",
        "                theta_w[i] -= (beta * prev_dw[i] + eta * dw[i]) - weight_decay * theta_w[i]  # Update weights\n",
        "                theta_b[i] -= beta * prev_db[i] + eta * db[i]  # Update biases\n",
        "\n",
        "            # Update previous gradients for the next iteration\n",
        "            prev_dw = dw\n",
        "            prev_db = db\n",
        "        acc,loss=accuracy(theta_w,theta_b,x_train,y_train,activationfun,split,L_fun)\n",
        "        v_acc,v_loss=validation(theta_w,theta_b,x_train,y_train,activationfun,split,L_fun)\n",
        "        # print(acc)\n",
        "        wandb.log({\"Train_Accuracy\" : acc})\n",
        "        wandb.log({\"Train_Loss\" : loss})\n",
        "        wandb.log({\"Validation_acc\" : v_acc})\n",
        "        wandb.log({\"Validation_loss\" : v_loss})\n",
        "    # return theta_w, theta_b\n"
      ]
    },
    {
      "cell_type": "code",
      "execution_count": 48,
      "metadata": {
        "id": "HaoojjONLgNm"
      },
      "outputs": [],
      "source": [
        "def do_adam(max_epochs, X_train, y_train, theta_w, theta_b, eta, beta1, beta2,weight_decay,activationfun,split,batch_size,L_fun):\n",
        "    # Initialization\n",
        "    m_dw = [np.zeros_like(w) for w in theta_w]  # Initialize first moment for weights\n",
        "    m_db = [np.zeros_like(b) for b in theta_b]  # Initialize first moment for biases\n",
        "    v_dw = [np.zeros_like(w) for w in theta_w]  # Initialize second moment for weights\n",
        "    v_db = [np.zeros_like(b) for b in theta_b]  # Initialize second moment for biases\n",
        "    eps = 1e-8  # Small constant to prevent division by zero\n",
        "    t = 0  # Time step initialization\n",
        "\n",
        "    for epoch in range(max_epochs):\n",
        "        d_w = [0 for _ in range(len(theta_w))]\n",
        "        d_b = [0 for _ in range(len(theta_b))]\n",
        "        for k in range (int(60000*(1-split))):\n",
        "\n",
        "            # Backward propagation\n",
        "            a = x_train[k].flatten().reshape(784,1)\n",
        "            t += 1\n",
        "\n",
        "\n",
        "            # Forward propagation\n",
        "            activations, pre_activations = forward_propagation(a,theta_w, theta_b,activationfun)\n",
        "\n",
        "            # Backward propagation\n",
        "            gradients_weights, gradients_biases = backpropagation(a,y_train[k], activations, pre_activations, theta_w, theta_b,activationfun,L_fun)\n",
        "            gradients_weights.reverse()\n",
        "            gradients_biases.reverse()\n",
        "            for i in range(len(pre_activations) ):\n",
        "                d_w[i] += gradients_weights[i]\n",
        "                d_b[i] += gradients_biases[i]\n",
        "            if(k+1)%batch_size==0:\n",
        "                # Update biased first moment estimates\n",
        "                for i in range(len(theta_w)):\n",
        "                    m_dw[i] = beta1 * m_dw[i] + (1 - beta1) * d_w[i]  # Update first moment for weights\n",
        "                    m_db[i] = beta1 * m_db[i] + (1 - beta1) * d_b[i]  # Update first moment for biases\n",
        "\n",
        "                # Update biased second raw moment estimates\n",
        "                for i in range(len(theta_w)):\n",
        "                    v_dw[i] = beta2 * v_dw[i] + (1 - beta2) * d_w[i] ** 2  # Update second moment for weights\n",
        "                    v_db[i] = beta2 * v_db[i] + (1 - beta2) * d_b[i] ** 2  # Update second moment for biases\n",
        "                # Correct bias in first moment\n",
        "                m_dw_corrected = [m / (1 - beta1 ** t) for m in m_dw]  # Correct first moment for weights\n",
        "                m_db_corrected = [m / (1 - beta1 ** t) for m in m_db]  # Correct first moment for biases\n",
        "\n",
        "                # Correct bias in second moment\n",
        "                v_dw_corrected = [v / (1 - beta2 ** t) for v in v_dw]  # Correct second moment for weights\n",
        "                v_db_corrected = [v / (1 - beta2 ** t) for v in v_db]  # Correct second moment for biases\n",
        "\n",
        "                # Update parameters\n",
        "                for i in range(len(theta_w)):\n",
        "                  theta_w[i] -= (eta * m_dw_corrected[i] / (np.sqrt(v_dw_corrected[i]) + eps))-weight_decay*theta_w[i]  # Update weights\n",
        "                  theta_b[i] -= eta * m_db_corrected[i] / (np.sqrt(v_db_corrected[i]) + eps)  # Update biases\n",
        "            for a in d_w:\n",
        "                    a[:] = 0\n",
        "            for b in d_b:\n",
        "                    b[:] = 0\n",
        "            t+= 1\n",
        "        acc,loss=accuracy(theta_w,theta_b,x_train,y_train,activationfun,split,L_fun)\n",
        "        v_acc,v_loss=validation(theta_w,theta_b,x_train,y_train,activationfun,split,L_fun)\n",
        "        # print(acc)\n",
        "        wandb.log({\"Train_Accuracy\" : acc})\n",
        "        wandb.log({\"Train_Loss\" : loss})\n",
        "        wandb.log({\"Validation_acc\" : v_acc})\n",
        "        wandb.log({\"Validation_loss\" : v_loss})\n"
      ]
    },
    {
      "cell_type": "code",
      "execution_count": 53,
      "metadata": {
        "id": "38s-3hEoLoWe",
        "colab": {
          "base_uri": "https://localhost:8080/",
          "height": 730
        },
        "outputId": "5620e33c-9ba4-40b8-d877-240af3f0c5d4"
      },
      "outputs": [
        {
          "output_type": "stream",
          "name": "stdout",
          "text": [
            "Error in callback <bound method _WandbInit._resume_backend of <wandb.sdk.wandb_init._WandbInit object at 0x7fe7d3f32fb0>> (for pre_run_cell):\n"
          ]
        },
        {
          "output_type": "error",
          "ename": "BrokenPipeError",
          "evalue": "[Errno 32] Broken pipe",
          "traceback": [
            "\u001b[0;31m---------------------------------------------------------------------------\u001b[0m",
            "\u001b[0;31mBrokenPipeError\u001b[0m                           Traceback (most recent call last)",
            "\u001b[0;32m/usr/local/lib/python3.10/dist-packages/wandb/sdk/wandb_init.py\u001b[0m in \u001b[0;36m_resume_backend\u001b[0;34m(self, *args, **kwargs)\u001b[0m\n\u001b[1;32m    441\u001b[0m         \u001b[0;32mif\u001b[0m \u001b[0mself\u001b[0m\u001b[0;34m.\u001b[0m\u001b[0mbackend\u001b[0m \u001b[0;32mis\u001b[0m \u001b[0;32mnot\u001b[0m \u001b[0;32mNone\u001b[0m \u001b[0;32mand\u001b[0m \u001b[0mself\u001b[0m\u001b[0;34m.\u001b[0m\u001b[0mbackend\u001b[0m\u001b[0;34m.\u001b[0m\u001b[0minterface\u001b[0m \u001b[0;32mis\u001b[0m \u001b[0;32mnot\u001b[0m \u001b[0;32mNone\u001b[0m\u001b[0;34m:\u001b[0m\u001b[0;34m\u001b[0m\u001b[0;34m\u001b[0m\u001b[0m\n\u001b[1;32m    442\u001b[0m             \u001b[0mlogger\u001b[0m\u001b[0;34m.\u001b[0m\u001b[0minfo\u001b[0m\u001b[0;34m(\u001b[0m\u001b[0;34m\"resuming backend\"\u001b[0m\u001b[0;34m)\u001b[0m  \u001b[0;31m# type: ignore\u001b[0m\u001b[0;34m\u001b[0m\u001b[0;34m\u001b[0m\u001b[0m\n\u001b[0;32m--> 443\u001b[0;31m             \u001b[0mself\u001b[0m\u001b[0;34m.\u001b[0m\u001b[0mbackend\u001b[0m\u001b[0;34m.\u001b[0m\u001b[0minterface\u001b[0m\u001b[0;34m.\u001b[0m\u001b[0mpublish_resume\u001b[0m\u001b[0;34m(\u001b[0m\u001b[0;34m)\u001b[0m\u001b[0;34m\u001b[0m\u001b[0;34m\u001b[0m\u001b[0m\n\u001b[0m\u001b[1;32m    444\u001b[0m \u001b[0;34m\u001b[0m\u001b[0m\n\u001b[1;32m    445\u001b[0m     \u001b[0;32mdef\u001b[0m \u001b[0m_jupyter_teardown\u001b[0m\u001b[0;34m(\u001b[0m\u001b[0mself\u001b[0m\u001b[0;34m)\u001b[0m \u001b[0;34m->\u001b[0m \u001b[0;32mNone\u001b[0m\u001b[0;34m:\u001b[0m\u001b[0;34m\u001b[0m\u001b[0;34m\u001b[0m\u001b[0m\n",
            "\u001b[0;32m/usr/local/lib/python3.10/dist-packages/wandb/sdk/interface/interface.py\u001b[0m in \u001b[0;36mpublish_resume\u001b[0;34m(self)\u001b[0m\n\u001b[1;32m    665\u001b[0m     \u001b[0;32mdef\u001b[0m \u001b[0mpublish_resume\u001b[0m\u001b[0;34m(\u001b[0m\u001b[0mself\u001b[0m\u001b[0;34m)\u001b[0m \u001b[0;34m->\u001b[0m \u001b[0;32mNone\u001b[0m\u001b[0;34m:\u001b[0m\u001b[0;34m\u001b[0m\u001b[0;34m\u001b[0m\u001b[0m\n\u001b[1;32m    666\u001b[0m         \u001b[0mresume\u001b[0m \u001b[0;34m=\u001b[0m \u001b[0mpb\u001b[0m\u001b[0;34m.\u001b[0m\u001b[0mResumeRequest\u001b[0m\u001b[0;34m(\u001b[0m\u001b[0;34m)\u001b[0m\u001b[0;34m\u001b[0m\u001b[0;34m\u001b[0m\u001b[0m\n\u001b[0;32m--> 667\u001b[0;31m         \u001b[0mself\u001b[0m\u001b[0;34m.\u001b[0m\u001b[0m_publish_resume\u001b[0m\u001b[0;34m(\u001b[0m\u001b[0mresume\u001b[0m\u001b[0;34m)\u001b[0m\u001b[0;34m\u001b[0m\u001b[0;34m\u001b[0m\u001b[0m\n\u001b[0m\u001b[1;32m    668\u001b[0m \u001b[0;34m\u001b[0m\u001b[0m\n\u001b[1;32m    669\u001b[0m     \u001b[0;34m@\u001b[0m\u001b[0mabstractmethod\u001b[0m\u001b[0;34m\u001b[0m\u001b[0;34m\u001b[0m\u001b[0m\n",
            "\u001b[0;32m/usr/local/lib/python3.10/dist-packages/wandb/sdk/interface/interface_shared.py\u001b[0m in \u001b[0;36m_publish_resume\u001b[0;34m(self, resume)\u001b[0m\n\u001b[1;32m    357\u001b[0m     \u001b[0;32mdef\u001b[0m \u001b[0m_publish_resume\u001b[0m\u001b[0;34m(\u001b[0m\u001b[0mself\u001b[0m\u001b[0;34m,\u001b[0m \u001b[0mresume\u001b[0m\u001b[0;34m:\u001b[0m \u001b[0mpb\u001b[0m\u001b[0;34m.\u001b[0m\u001b[0mResumeRequest\u001b[0m\u001b[0;34m)\u001b[0m \u001b[0;34m->\u001b[0m \u001b[0;32mNone\u001b[0m\u001b[0;34m:\u001b[0m\u001b[0;34m\u001b[0m\u001b[0;34m\u001b[0m\u001b[0m\n\u001b[1;32m    358\u001b[0m         \u001b[0mrec\u001b[0m \u001b[0;34m=\u001b[0m \u001b[0mself\u001b[0m\u001b[0;34m.\u001b[0m\u001b[0m_make_request\u001b[0m\u001b[0;34m(\u001b[0m\u001b[0mresume\u001b[0m\u001b[0;34m=\u001b[0m\u001b[0mresume\u001b[0m\u001b[0;34m)\u001b[0m\u001b[0;34m\u001b[0m\u001b[0;34m\u001b[0m\u001b[0m\n\u001b[0;32m--> 359\u001b[0;31m         \u001b[0mself\u001b[0m\u001b[0;34m.\u001b[0m\u001b[0m_publish\u001b[0m\u001b[0;34m(\u001b[0m\u001b[0mrec\u001b[0m\u001b[0;34m)\u001b[0m\u001b[0;34m\u001b[0m\u001b[0;34m\u001b[0m\u001b[0m\n\u001b[0m\u001b[1;32m    360\u001b[0m \u001b[0;34m\u001b[0m\u001b[0m\n\u001b[1;32m    361\u001b[0m     \u001b[0;32mdef\u001b[0m \u001b[0m_publish_run\u001b[0m\u001b[0;34m(\u001b[0m\u001b[0mself\u001b[0m\u001b[0;34m,\u001b[0m \u001b[0mrun\u001b[0m\u001b[0;34m:\u001b[0m \u001b[0mpb\u001b[0m\u001b[0;34m.\u001b[0m\u001b[0mRunRecord\u001b[0m\u001b[0;34m)\u001b[0m \u001b[0;34m->\u001b[0m \u001b[0;32mNone\u001b[0m\u001b[0;34m:\u001b[0m\u001b[0;34m\u001b[0m\u001b[0;34m\u001b[0m\u001b[0m\n",
            "\u001b[0;32m/usr/local/lib/python3.10/dist-packages/wandb/sdk/interface/interface_sock.py\u001b[0m in \u001b[0;36m_publish\u001b[0;34m(self, record, local)\u001b[0m\n\u001b[1;32m     49\u001b[0m     \u001b[0;32mdef\u001b[0m \u001b[0m_publish\u001b[0m\u001b[0;34m(\u001b[0m\u001b[0mself\u001b[0m\u001b[0;34m,\u001b[0m \u001b[0mrecord\u001b[0m\u001b[0;34m:\u001b[0m \u001b[0;34m\"pb.Record\"\u001b[0m\u001b[0;34m,\u001b[0m \u001b[0mlocal\u001b[0m\u001b[0;34m:\u001b[0m \u001b[0mOptional\u001b[0m\u001b[0;34m[\u001b[0m\u001b[0mbool\u001b[0m\u001b[0;34m]\u001b[0m \u001b[0;34m=\u001b[0m \u001b[0;32mNone\u001b[0m\u001b[0;34m)\u001b[0m \u001b[0;34m->\u001b[0m \u001b[0;32mNone\u001b[0m\u001b[0;34m:\u001b[0m\u001b[0;34m\u001b[0m\u001b[0;34m\u001b[0m\u001b[0m\n\u001b[1;32m     50\u001b[0m         \u001b[0mself\u001b[0m\u001b[0;34m.\u001b[0m\u001b[0m_assign\u001b[0m\u001b[0;34m(\u001b[0m\u001b[0mrecord\u001b[0m\u001b[0;34m)\u001b[0m\u001b[0;34m\u001b[0m\u001b[0;34m\u001b[0m\u001b[0m\n\u001b[0;32m---> 51\u001b[0;31m         \u001b[0mself\u001b[0m\u001b[0;34m.\u001b[0m\u001b[0m_sock_client\u001b[0m\u001b[0;34m.\u001b[0m\u001b[0msend_record_publish\u001b[0m\u001b[0;34m(\u001b[0m\u001b[0mrecord\u001b[0m\u001b[0;34m)\u001b[0m\u001b[0;34m\u001b[0m\u001b[0;34m\u001b[0m\u001b[0m\n\u001b[0m\u001b[1;32m     52\u001b[0m \u001b[0;34m\u001b[0m\u001b[0m\n\u001b[1;32m     53\u001b[0m     def _communicate_async(\n",
            "\u001b[0;32m/usr/local/lib/python3.10/dist-packages/wandb/sdk/lib/sock_client.py\u001b[0m in \u001b[0;36msend_record_publish\u001b[0;34m(self, record)\u001b[0m\n\u001b[1;32m    219\u001b[0m         \u001b[0mserver_req\u001b[0m \u001b[0;34m=\u001b[0m \u001b[0mspb\u001b[0m\u001b[0;34m.\u001b[0m\u001b[0mServerRequest\u001b[0m\u001b[0;34m(\u001b[0m\u001b[0;34m)\u001b[0m\u001b[0;34m\u001b[0m\u001b[0;34m\u001b[0m\u001b[0m\n\u001b[1;32m    220\u001b[0m         \u001b[0mserver_req\u001b[0m\u001b[0;34m.\u001b[0m\u001b[0mrecord_publish\u001b[0m\u001b[0;34m.\u001b[0m\u001b[0mCopyFrom\u001b[0m\u001b[0;34m(\u001b[0m\u001b[0mrecord\u001b[0m\u001b[0;34m)\u001b[0m\u001b[0;34m\u001b[0m\u001b[0;34m\u001b[0m\u001b[0m\n\u001b[0;32m--> 221\u001b[0;31m         \u001b[0mself\u001b[0m\u001b[0;34m.\u001b[0m\u001b[0msend_server_request\u001b[0m\u001b[0;34m(\u001b[0m\u001b[0mserver_req\u001b[0m\u001b[0;34m)\u001b[0m\u001b[0;34m\u001b[0m\u001b[0;34m\u001b[0m\u001b[0m\n\u001b[0m\u001b[1;32m    222\u001b[0m \u001b[0;34m\u001b[0m\u001b[0m\n\u001b[1;32m    223\u001b[0m     \u001b[0;32mdef\u001b[0m \u001b[0m_extract_packet_bytes\u001b[0m\u001b[0;34m(\u001b[0m\u001b[0mself\u001b[0m\u001b[0;34m)\u001b[0m \u001b[0;34m->\u001b[0m \u001b[0mOptional\u001b[0m\u001b[0;34m[\u001b[0m\u001b[0mbytes\u001b[0m\u001b[0;34m]\u001b[0m\u001b[0;34m:\u001b[0m\u001b[0;34m\u001b[0m\u001b[0;34m\u001b[0m\u001b[0m\n",
            "\u001b[0;32m/usr/local/lib/python3.10/dist-packages/wandb/sdk/lib/sock_client.py\u001b[0m in \u001b[0;36msend_server_request\u001b[0;34m(self, msg)\u001b[0m\n\u001b[1;32m    153\u001b[0m \u001b[0;34m\u001b[0m\u001b[0m\n\u001b[1;32m    154\u001b[0m     \u001b[0;32mdef\u001b[0m \u001b[0msend_server_request\u001b[0m\u001b[0;34m(\u001b[0m\u001b[0mself\u001b[0m\u001b[0;34m,\u001b[0m \u001b[0mmsg\u001b[0m\u001b[0;34m:\u001b[0m \u001b[0mAny\u001b[0m\u001b[0;34m)\u001b[0m \u001b[0;34m->\u001b[0m \u001b[0;32mNone\u001b[0m\u001b[0;34m:\u001b[0m\u001b[0;34m\u001b[0m\u001b[0;34m\u001b[0m\u001b[0m\n\u001b[0;32m--> 155\u001b[0;31m         \u001b[0mself\u001b[0m\u001b[0;34m.\u001b[0m\u001b[0m_send_message\u001b[0m\u001b[0;34m(\u001b[0m\u001b[0mmsg\u001b[0m\u001b[0;34m)\u001b[0m\u001b[0;34m\u001b[0m\u001b[0;34m\u001b[0m\u001b[0m\n\u001b[0m\u001b[1;32m    156\u001b[0m \u001b[0;34m\u001b[0m\u001b[0m\n\u001b[1;32m    157\u001b[0m     \u001b[0;32mdef\u001b[0m \u001b[0msend_server_response\u001b[0m\u001b[0;34m(\u001b[0m\u001b[0mself\u001b[0m\u001b[0;34m,\u001b[0m \u001b[0mmsg\u001b[0m\u001b[0;34m:\u001b[0m \u001b[0mAny\u001b[0m\u001b[0;34m)\u001b[0m \u001b[0;34m->\u001b[0m \u001b[0;32mNone\u001b[0m\u001b[0;34m:\u001b[0m\u001b[0;34m\u001b[0m\u001b[0;34m\u001b[0m\u001b[0m\n",
            "\u001b[0;32m/usr/local/lib/python3.10/dist-packages/wandb/sdk/lib/sock_client.py\u001b[0m in \u001b[0;36m_send_message\u001b[0;34m(self, msg)\u001b[0m\n\u001b[1;32m    150\u001b[0m         \u001b[0mheader\u001b[0m \u001b[0;34m=\u001b[0m \u001b[0mstruct\u001b[0m\u001b[0;34m.\u001b[0m\u001b[0mpack\u001b[0m\u001b[0;34m(\u001b[0m\u001b[0;34m\"<BI\"\u001b[0m\u001b[0;34m,\u001b[0m \u001b[0mord\u001b[0m\u001b[0;34m(\u001b[0m\u001b[0;34m\"W\"\u001b[0m\u001b[0;34m)\u001b[0m\u001b[0;34m,\u001b[0m \u001b[0mraw_size\u001b[0m\u001b[0;34m)\u001b[0m\u001b[0;34m\u001b[0m\u001b[0;34m\u001b[0m\u001b[0m\n\u001b[1;32m    151\u001b[0m         \u001b[0;32mwith\u001b[0m \u001b[0mself\u001b[0m\u001b[0;34m.\u001b[0m\u001b[0m_lock\u001b[0m\u001b[0;34m:\u001b[0m\u001b[0;34m\u001b[0m\u001b[0;34m\u001b[0m\u001b[0m\n\u001b[0;32m--> 152\u001b[0;31m             \u001b[0mself\u001b[0m\u001b[0;34m.\u001b[0m\u001b[0m_sendall_with_error_handle\u001b[0m\u001b[0;34m(\u001b[0m\u001b[0mheader\u001b[0m \u001b[0;34m+\u001b[0m \u001b[0mdata\u001b[0m\u001b[0;34m)\u001b[0m\u001b[0;34m\u001b[0m\u001b[0;34m\u001b[0m\u001b[0m\n\u001b[0m\u001b[1;32m    153\u001b[0m \u001b[0;34m\u001b[0m\u001b[0m\n\u001b[1;32m    154\u001b[0m     \u001b[0;32mdef\u001b[0m \u001b[0msend_server_request\u001b[0m\u001b[0;34m(\u001b[0m\u001b[0mself\u001b[0m\u001b[0;34m,\u001b[0m \u001b[0mmsg\u001b[0m\u001b[0;34m:\u001b[0m \u001b[0mAny\u001b[0m\u001b[0;34m)\u001b[0m \u001b[0;34m->\u001b[0m \u001b[0;32mNone\u001b[0m\u001b[0;34m:\u001b[0m\u001b[0;34m\u001b[0m\u001b[0;34m\u001b[0m\u001b[0m\n",
            "\u001b[0;32m/usr/local/lib/python3.10/dist-packages/wandb/sdk/lib/sock_client.py\u001b[0m in \u001b[0;36m_sendall_with_error_handle\u001b[0;34m(self, data)\u001b[0m\n\u001b[1;32m    128\u001b[0m             \u001b[0mstart_time\u001b[0m \u001b[0;34m=\u001b[0m \u001b[0mtime\u001b[0m\u001b[0;34m.\u001b[0m\u001b[0mmonotonic\u001b[0m\u001b[0;34m(\u001b[0m\u001b[0;34m)\u001b[0m\u001b[0;34m\u001b[0m\u001b[0;34m\u001b[0m\u001b[0m\n\u001b[1;32m    129\u001b[0m             \u001b[0;32mtry\u001b[0m\u001b[0;34m:\u001b[0m\u001b[0;34m\u001b[0m\u001b[0;34m\u001b[0m\u001b[0m\n\u001b[0;32m--> 130\u001b[0;31m                 \u001b[0msent\u001b[0m \u001b[0;34m=\u001b[0m \u001b[0mself\u001b[0m\u001b[0;34m.\u001b[0m\u001b[0m_sock\u001b[0m\u001b[0;34m.\u001b[0m\u001b[0msend\u001b[0m\u001b[0;34m(\u001b[0m\u001b[0mdata\u001b[0m\u001b[0;34m)\u001b[0m\u001b[0;34m\u001b[0m\u001b[0;34m\u001b[0m\u001b[0m\n\u001b[0m\u001b[1;32m    131\u001b[0m                 \u001b[0;31m# sent equal to 0 indicates a closed socket\u001b[0m\u001b[0;34m\u001b[0m\u001b[0;34m\u001b[0m\u001b[0m\n\u001b[1;32m    132\u001b[0m                 \u001b[0;32mif\u001b[0m \u001b[0msent\u001b[0m \u001b[0;34m==\u001b[0m \u001b[0;36m0\u001b[0m\u001b[0;34m:\u001b[0m\u001b[0;34m\u001b[0m\u001b[0;34m\u001b[0m\u001b[0m\n",
            "\u001b[0;31mBrokenPipeError\u001b[0m: [Errno 32] Broken pipe"
          ]
        },
        {
          "output_type": "stream",
          "name": "stdout",
          "text": [
            "Error in callback <bound method _WandbInit._pause_backend of <wandb.sdk.wandb_init._WandbInit object at 0x7fe7d3f32fb0>> (for post_run_cell):\n"
          ]
        },
        {
          "output_type": "error",
          "ename": "BrokenPipeError",
          "evalue": "[Errno 32] Broken pipe",
          "traceback": [
            "\u001b[0;31m---------------------------------------------------------------------------\u001b[0m",
            "\u001b[0;31mBrokenPipeError\u001b[0m                           Traceback (most recent call last)",
            "\u001b[0;32m/usr/local/lib/python3.10/dist-packages/wandb/sdk/wandb_init.py\u001b[0m in \u001b[0;36m_pause_backend\u001b[0;34m(self, *args, **kwargs)\u001b[0m\n\u001b[1;32m    436\u001b[0m         \u001b[0;32mif\u001b[0m \u001b[0mself\u001b[0m\u001b[0;34m.\u001b[0m\u001b[0mbackend\u001b[0m\u001b[0;34m.\u001b[0m\u001b[0minterface\u001b[0m \u001b[0;32mis\u001b[0m \u001b[0;32mnot\u001b[0m \u001b[0;32mNone\u001b[0m\u001b[0;34m:\u001b[0m\u001b[0;34m\u001b[0m\u001b[0;34m\u001b[0m\u001b[0m\n\u001b[1;32m    437\u001b[0m             \u001b[0mlogger\u001b[0m\u001b[0;34m.\u001b[0m\u001b[0minfo\u001b[0m\u001b[0;34m(\u001b[0m\u001b[0;34m\"pausing backend\"\u001b[0m\u001b[0;34m)\u001b[0m  \u001b[0;31m# type: ignore\u001b[0m\u001b[0;34m\u001b[0m\u001b[0;34m\u001b[0m\u001b[0m\n\u001b[0;32m--> 438\u001b[0;31m             \u001b[0mself\u001b[0m\u001b[0;34m.\u001b[0m\u001b[0mbackend\u001b[0m\u001b[0;34m.\u001b[0m\u001b[0minterface\u001b[0m\u001b[0;34m.\u001b[0m\u001b[0mpublish_pause\u001b[0m\u001b[0;34m(\u001b[0m\u001b[0;34m)\u001b[0m\u001b[0;34m\u001b[0m\u001b[0;34m\u001b[0m\u001b[0m\n\u001b[0m\u001b[1;32m    439\u001b[0m \u001b[0;34m\u001b[0m\u001b[0m\n\u001b[1;32m    440\u001b[0m     \u001b[0;32mdef\u001b[0m \u001b[0m_resume_backend\u001b[0m\u001b[0;34m(\u001b[0m\u001b[0mself\u001b[0m\u001b[0;34m,\u001b[0m \u001b[0;34m*\u001b[0m\u001b[0margs\u001b[0m\u001b[0;34m:\u001b[0m \u001b[0mAny\u001b[0m\u001b[0;34m,\u001b[0m \u001b[0;34m**\u001b[0m\u001b[0mkwargs\u001b[0m\u001b[0;34m:\u001b[0m \u001b[0mAny\u001b[0m\u001b[0;34m)\u001b[0m \u001b[0;34m->\u001b[0m \u001b[0;32mNone\u001b[0m\u001b[0;34m:\u001b[0m  \u001b[0;31m#  noqa\u001b[0m\u001b[0;34m\u001b[0m\u001b[0;34m\u001b[0m\u001b[0m\n",
            "\u001b[0;32m/usr/local/lib/python3.10/dist-packages/wandb/sdk/interface/interface.py\u001b[0m in \u001b[0;36mpublish_pause\u001b[0;34m(self)\u001b[0m\n\u001b[1;32m    657\u001b[0m     \u001b[0;32mdef\u001b[0m \u001b[0mpublish_pause\u001b[0m\u001b[0;34m(\u001b[0m\u001b[0mself\u001b[0m\u001b[0;34m)\u001b[0m \u001b[0;34m->\u001b[0m \u001b[0;32mNone\u001b[0m\u001b[0;34m:\u001b[0m\u001b[0;34m\u001b[0m\u001b[0;34m\u001b[0m\u001b[0m\n\u001b[1;32m    658\u001b[0m         \u001b[0mpause\u001b[0m \u001b[0;34m=\u001b[0m \u001b[0mpb\u001b[0m\u001b[0;34m.\u001b[0m\u001b[0mPauseRequest\u001b[0m\u001b[0;34m(\u001b[0m\u001b[0;34m)\u001b[0m\u001b[0;34m\u001b[0m\u001b[0;34m\u001b[0m\u001b[0m\n\u001b[0;32m--> 659\u001b[0;31m         \u001b[0mself\u001b[0m\u001b[0;34m.\u001b[0m\u001b[0m_publish_pause\u001b[0m\u001b[0;34m(\u001b[0m\u001b[0mpause\u001b[0m\u001b[0;34m)\u001b[0m\u001b[0;34m\u001b[0m\u001b[0;34m\u001b[0m\u001b[0m\n\u001b[0m\u001b[1;32m    660\u001b[0m \u001b[0;34m\u001b[0m\u001b[0m\n\u001b[1;32m    661\u001b[0m     \u001b[0;34m@\u001b[0m\u001b[0mabstractmethod\u001b[0m\u001b[0;34m\u001b[0m\u001b[0;34m\u001b[0m\u001b[0m\n",
            "\u001b[0;32m/usr/local/lib/python3.10/dist-packages/wandb/sdk/interface/interface_shared.py\u001b[0m in \u001b[0;36m_publish_pause\u001b[0;34m(self, pause)\u001b[0m\n\u001b[1;32m    353\u001b[0m     \u001b[0;32mdef\u001b[0m \u001b[0m_publish_pause\u001b[0m\u001b[0;34m(\u001b[0m\u001b[0mself\u001b[0m\u001b[0;34m,\u001b[0m \u001b[0mpause\u001b[0m\u001b[0;34m:\u001b[0m \u001b[0mpb\u001b[0m\u001b[0;34m.\u001b[0m\u001b[0mPauseRequest\u001b[0m\u001b[0;34m)\u001b[0m \u001b[0;34m->\u001b[0m \u001b[0;32mNone\u001b[0m\u001b[0;34m:\u001b[0m\u001b[0;34m\u001b[0m\u001b[0;34m\u001b[0m\u001b[0m\n\u001b[1;32m    354\u001b[0m         \u001b[0mrec\u001b[0m \u001b[0;34m=\u001b[0m \u001b[0mself\u001b[0m\u001b[0;34m.\u001b[0m\u001b[0m_make_request\u001b[0m\u001b[0;34m(\u001b[0m\u001b[0mpause\u001b[0m\u001b[0;34m=\u001b[0m\u001b[0mpause\u001b[0m\u001b[0;34m)\u001b[0m\u001b[0;34m\u001b[0m\u001b[0;34m\u001b[0m\u001b[0m\n\u001b[0;32m--> 355\u001b[0;31m         \u001b[0mself\u001b[0m\u001b[0;34m.\u001b[0m\u001b[0m_publish\u001b[0m\u001b[0;34m(\u001b[0m\u001b[0mrec\u001b[0m\u001b[0;34m)\u001b[0m\u001b[0;34m\u001b[0m\u001b[0;34m\u001b[0m\u001b[0m\n\u001b[0m\u001b[1;32m    356\u001b[0m \u001b[0;34m\u001b[0m\u001b[0m\n\u001b[1;32m    357\u001b[0m     \u001b[0;32mdef\u001b[0m \u001b[0m_publish_resume\u001b[0m\u001b[0;34m(\u001b[0m\u001b[0mself\u001b[0m\u001b[0;34m,\u001b[0m \u001b[0mresume\u001b[0m\u001b[0;34m:\u001b[0m \u001b[0mpb\u001b[0m\u001b[0;34m.\u001b[0m\u001b[0mResumeRequest\u001b[0m\u001b[0;34m)\u001b[0m \u001b[0;34m->\u001b[0m \u001b[0;32mNone\u001b[0m\u001b[0;34m:\u001b[0m\u001b[0;34m\u001b[0m\u001b[0;34m\u001b[0m\u001b[0m\n",
            "\u001b[0;32m/usr/local/lib/python3.10/dist-packages/wandb/sdk/interface/interface_sock.py\u001b[0m in \u001b[0;36m_publish\u001b[0;34m(self, record, local)\u001b[0m\n\u001b[1;32m     49\u001b[0m     \u001b[0;32mdef\u001b[0m \u001b[0m_publish\u001b[0m\u001b[0;34m(\u001b[0m\u001b[0mself\u001b[0m\u001b[0;34m,\u001b[0m \u001b[0mrecord\u001b[0m\u001b[0;34m:\u001b[0m \u001b[0;34m\"pb.Record\"\u001b[0m\u001b[0;34m,\u001b[0m \u001b[0mlocal\u001b[0m\u001b[0;34m:\u001b[0m \u001b[0mOptional\u001b[0m\u001b[0;34m[\u001b[0m\u001b[0mbool\u001b[0m\u001b[0;34m]\u001b[0m \u001b[0;34m=\u001b[0m \u001b[0;32mNone\u001b[0m\u001b[0;34m)\u001b[0m \u001b[0;34m->\u001b[0m \u001b[0;32mNone\u001b[0m\u001b[0;34m:\u001b[0m\u001b[0;34m\u001b[0m\u001b[0;34m\u001b[0m\u001b[0m\n\u001b[1;32m     50\u001b[0m         \u001b[0mself\u001b[0m\u001b[0;34m.\u001b[0m\u001b[0m_assign\u001b[0m\u001b[0;34m(\u001b[0m\u001b[0mrecord\u001b[0m\u001b[0;34m)\u001b[0m\u001b[0;34m\u001b[0m\u001b[0;34m\u001b[0m\u001b[0m\n\u001b[0;32m---> 51\u001b[0;31m         \u001b[0mself\u001b[0m\u001b[0;34m.\u001b[0m\u001b[0m_sock_client\u001b[0m\u001b[0;34m.\u001b[0m\u001b[0msend_record_publish\u001b[0m\u001b[0;34m(\u001b[0m\u001b[0mrecord\u001b[0m\u001b[0;34m)\u001b[0m\u001b[0;34m\u001b[0m\u001b[0;34m\u001b[0m\u001b[0m\n\u001b[0m\u001b[1;32m     52\u001b[0m \u001b[0;34m\u001b[0m\u001b[0m\n\u001b[1;32m     53\u001b[0m     def _communicate_async(\n",
            "\u001b[0;32m/usr/local/lib/python3.10/dist-packages/wandb/sdk/lib/sock_client.py\u001b[0m in \u001b[0;36msend_record_publish\u001b[0;34m(self, record)\u001b[0m\n\u001b[1;32m    219\u001b[0m         \u001b[0mserver_req\u001b[0m \u001b[0;34m=\u001b[0m \u001b[0mspb\u001b[0m\u001b[0;34m.\u001b[0m\u001b[0mServerRequest\u001b[0m\u001b[0;34m(\u001b[0m\u001b[0;34m)\u001b[0m\u001b[0;34m\u001b[0m\u001b[0;34m\u001b[0m\u001b[0m\n\u001b[1;32m    220\u001b[0m         \u001b[0mserver_req\u001b[0m\u001b[0;34m.\u001b[0m\u001b[0mrecord_publish\u001b[0m\u001b[0;34m.\u001b[0m\u001b[0mCopyFrom\u001b[0m\u001b[0;34m(\u001b[0m\u001b[0mrecord\u001b[0m\u001b[0;34m)\u001b[0m\u001b[0;34m\u001b[0m\u001b[0;34m\u001b[0m\u001b[0m\n\u001b[0;32m--> 221\u001b[0;31m         \u001b[0mself\u001b[0m\u001b[0;34m.\u001b[0m\u001b[0msend_server_request\u001b[0m\u001b[0;34m(\u001b[0m\u001b[0mserver_req\u001b[0m\u001b[0;34m)\u001b[0m\u001b[0;34m\u001b[0m\u001b[0;34m\u001b[0m\u001b[0m\n\u001b[0m\u001b[1;32m    222\u001b[0m \u001b[0;34m\u001b[0m\u001b[0m\n\u001b[1;32m    223\u001b[0m     \u001b[0;32mdef\u001b[0m \u001b[0m_extract_packet_bytes\u001b[0m\u001b[0;34m(\u001b[0m\u001b[0mself\u001b[0m\u001b[0;34m)\u001b[0m \u001b[0;34m->\u001b[0m \u001b[0mOptional\u001b[0m\u001b[0;34m[\u001b[0m\u001b[0mbytes\u001b[0m\u001b[0;34m]\u001b[0m\u001b[0;34m:\u001b[0m\u001b[0;34m\u001b[0m\u001b[0;34m\u001b[0m\u001b[0m\n",
            "\u001b[0;32m/usr/local/lib/python3.10/dist-packages/wandb/sdk/lib/sock_client.py\u001b[0m in \u001b[0;36msend_server_request\u001b[0;34m(self, msg)\u001b[0m\n\u001b[1;32m    153\u001b[0m \u001b[0;34m\u001b[0m\u001b[0m\n\u001b[1;32m    154\u001b[0m     \u001b[0;32mdef\u001b[0m \u001b[0msend_server_request\u001b[0m\u001b[0;34m(\u001b[0m\u001b[0mself\u001b[0m\u001b[0;34m,\u001b[0m \u001b[0mmsg\u001b[0m\u001b[0;34m:\u001b[0m \u001b[0mAny\u001b[0m\u001b[0;34m)\u001b[0m \u001b[0;34m->\u001b[0m \u001b[0;32mNone\u001b[0m\u001b[0;34m:\u001b[0m\u001b[0;34m\u001b[0m\u001b[0;34m\u001b[0m\u001b[0m\n\u001b[0;32m--> 155\u001b[0;31m         \u001b[0mself\u001b[0m\u001b[0;34m.\u001b[0m\u001b[0m_send_message\u001b[0m\u001b[0;34m(\u001b[0m\u001b[0mmsg\u001b[0m\u001b[0;34m)\u001b[0m\u001b[0;34m\u001b[0m\u001b[0;34m\u001b[0m\u001b[0m\n\u001b[0m\u001b[1;32m    156\u001b[0m \u001b[0;34m\u001b[0m\u001b[0m\n\u001b[1;32m    157\u001b[0m     \u001b[0;32mdef\u001b[0m \u001b[0msend_server_response\u001b[0m\u001b[0;34m(\u001b[0m\u001b[0mself\u001b[0m\u001b[0;34m,\u001b[0m \u001b[0mmsg\u001b[0m\u001b[0;34m:\u001b[0m \u001b[0mAny\u001b[0m\u001b[0;34m)\u001b[0m \u001b[0;34m->\u001b[0m \u001b[0;32mNone\u001b[0m\u001b[0;34m:\u001b[0m\u001b[0;34m\u001b[0m\u001b[0;34m\u001b[0m\u001b[0m\n",
            "\u001b[0;32m/usr/local/lib/python3.10/dist-packages/wandb/sdk/lib/sock_client.py\u001b[0m in \u001b[0;36m_send_message\u001b[0;34m(self, msg)\u001b[0m\n\u001b[1;32m    150\u001b[0m         \u001b[0mheader\u001b[0m \u001b[0;34m=\u001b[0m \u001b[0mstruct\u001b[0m\u001b[0;34m.\u001b[0m\u001b[0mpack\u001b[0m\u001b[0;34m(\u001b[0m\u001b[0;34m\"<BI\"\u001b[0m\u001b[0;34m,\u001b[0m \u001b[0mord\u001b[0m\u001b[0;34m(\u001b[0m\u001b[0;34m\"W\"\u001b[0m\u001b[0;34m)\u001b[0m\u001b[0;34m,\u001b[0m \u001b[0mraw_size\u001b[0m\u001b[0;34m)\u001b[0m\u001b[0;34m\u001b[0m\u001b[0;34m\u001b[0m\u001b[0m\n\u001b[1;32m    151\u001b[0m         \u001b[0;32mwith\u001b[0m \u001b[0mself\u001b[0m\u001b[0;34m.\u001b[0m\u001b[0m_lock\u001b[0m\u001b[0;34m:\u001b[0m\u001b[0;34m\u001b[0m\u001b[0;34m\u001b[0m\u001b[0m\n\u001b[0;32m--> 152\u001b[0;31m             \u001b[0mself\u001b[0m\u001b[0;34m.\u001b[0m\u001b[0m_sendall_with_error_handle\u001b[0m\u001b[0;34m(\u001b[0m\u001b[0mheader\u001b[0m \u001b[0;34m+\u001b[0m \u001b[0mdata\u001b[0m\u001b[0;34m)\u001b[0m\u001b[0;34m\u001b[0m\u001b[0;34m\u001b[0m\u001b[0m\n\u001b[0m\u001b[1;32m    153\u001b[0m \u001b[0;34m\u001b[0m\u001b[0m\n\u001b[1;32m    154\u001b[0m     \u001b[0;32mdef\u001b[0m \u001b[0msend_server_request\u001b[0m\u001b[0;34m(\u001b[0m\u001b[0mself\u001b[0m\u001b[0;34m,\u001b[0m \u001b[0mmsg\u001b[0m\u001b[0;34m:\u001b[0m \u001b[0mAny\u001b[0m\u001b[0;34m)\u001b[0m \u001b[0;34m->\u001b[0m \u001b[0;32mNone\u001b[0m\u001b[0;34m:\u001b[0m\u001b[0;34m\u001b[0m\u001b[0;34m\u001b[0m\u001b[0m\n",
            "\u001b[0;32m/usr/local/lib/python3.10/dist-packages/wandb/sdk/lib/sock_client.py\u001b[0m in \u001b[0;36m_sendall_with_error_handle\u001b[0;34m(self, data)\u001b[0m\n\u001b[1;32m    128\u001b[0m             \u001b[0mstart_time\u001b[0m \u001b[0;34m=\u001b[0m \u001b[0mtime\u001b[0m\u001b[0;34m.\u001b[0m\u001b[0mmonotonic\u001b[0m\u001b[0;34m(\u001b[0m\u001b[0;34m)\u001b[0m\u001b[0;34m\u001b[0m\u001b[0;34m\u001b[0m\u001b[0m\n\u001b[1;32m    129\u001b[0m             \u001b[0;32mtry\u001b[0m\u001b[0;34m:\u001b[0m\u001b[0;34m\u001b[0m\u001b[0;34m\u001b[0m\u001b[0m\n\u001b[0;32m--> 130\u001b[0;31m                 \u001b[0msent\u001b[0m \u001b[0;34m=\u001b[0m \u001b[0mself\u001b[0m\u001b[0;34m.\u001b[0m\u001b[0m_sock\u001b[0m\u001b[0;34m.\u001b[0m\u001b[0msend\u001b[0m\u001b[0;34m(\u001b[0m\u001b[0mdata\u001b[0m\u001b[0;34m)\u001b[0m\u001b[0;34m\u001b[0m\u001b[0;34m\u001b[0m\u001b[0m\n\u001b[0m\u001b[1;32m    131\u001b[0m                 \u001b[0;31m# sent equal to 0 indicates a closed socket\u001b[0m\u001b[0;34m\u001b[0m\u001b[0;34m\u001b[0m\u001b[0m\n\u001b[1;32m    132\u001b[0m                 \u001b[0;32mif\u001b[0m \u001b[0msent\u001b[0m \u001b[0;34m==\u001b[0m \u001b[0;36m0\u001b[0m\u001b[0;34m:\u001b[0m\u001b[0;34m\u001b[0m\u001b[0;34m\u001b[0m\u001b[0m\n",
            "\u001b[0;31mBrokenPipeError\u001b[0m: [Errno 32] Broken pipe"
          ]
        }
      ],
      "source": [
        "def do_nadam(max_epochs, X_train, y_train, theta_w, theta_b, eta, beta1, beta2,weight_decay,activationfun,split,batch_size,L_fun):\n",
        "    # Initialization\n",
        "    m_dw = [np.zeros_like(w) for w in theta_w]  # Initialize first moment for weights\n",
        "    m_db = [np.zeros_like(b) for b in theta_b]  # Initialize first moment for biases\n",
        "    v_dw = [np.zeros_like(w) for w in theta_w]  # Initialize second moment for weights\n",
        "    v_db = [np.zeros_like(b) for b in theta_b]  # Initialize second moment for biases\n",
        "    eps = 1e-8  # Small constant to prevent division by zero\n",
        "    t = 0  # Time step initialization\n",
        "\n",
        "    for epoch in range(max_epochs):\n",
        "        d_w = [0 for _ in range(len(theta_w))]\n",
        "        d_b = [0 for _ in range(len(theta_b))]\n",
        "        for k in range (int(60000*(1-split))):\n",
        "\n",
        "            # Backward propagation\n",
        "            a = x_train[k].flatten().reshape(784,1)\n",
        "            t += 1\n",
        "\n",
        "\n",
        "            # Forward propagation\n",
        "            activations, pre_activations = forward_propagation(a,theta_w, theta_b,activationfun)\n",
        "\n",
        "            # Backward propagation\n",
        "            gradients_weights, gradients_biases = backpropagation(a,y_train[k], activations, pre_activations, theta_w, theta_b,activationfun,L_fun)\n",
        "            gradients_weights.reverse()\n",
        "            gradients_biases.reverse()\n",
        "            for i in range(len(pre_activations) ):\n",
        "                d_w[i] += gradients_weights[i]\n",
        "                d_b[i] += gradients_biases[i]\n",
        "            if(k+1)%batch_size==0:\n",
        "                # Update biased first moment estimates\n",
        "                for i in range(len(theta_w)):\n",
        "                    m_dw[i] = beta1 * m_dw[i] + (1 - beta1) * d_w[i]  # Update first moment for weights\n",
        "                    m_db[i] = beta1 * m_db[i] + (1 - beta1) * d_b[i]  # Update first moment for biases\n",
        "\n",
        "                # Update biased second raw moment estimates\n",
        "                for i in range(len(theta_w)):\n",
        "                    v_dw[i] = beta2 * v_dw[i] + (1 - beta2) * d_w[i] ** 2  # Update second moment for weights\n",
        "                    v_db[i] = beta2 * v_db[i] + (1 - beta2) * d_b[i] ** 2  # Update second moment for biases\n",
        "                # Correct bias in first moment\n",
        "                m_dw_corrected = [m / (1 - beta1 ** t) for m in m_dw]  # Correct first moment for weights\n",
        "                m_db_corrected = [m / (1 - beta1 ** t) for m in m_db]  # Correct first moment for biases\n",
        "\n",
        "                # Correct bias in second moment\n",
        "                v_dw_corrected = [v / (1 - beta2 ** t) for v in v_dw]  # Correct second moment for weights\n",
        "                v_db_corrected = [v / (1 - beta2 ** t) for v in v_db]  # Correct second moment for biases\n",
        "\n",
        "                v_dw_nesterov = [beta1 * m + ((1 - beta1) * gradients_weights[i] / (1 - beta1 ** t)) for i, m in enumerate(m_dw)]\n",
        "                v_db_nesterov = [beta1 * m + ((1 - beta1) * gradients_biases[i] / (1 - beta1 ** t)) for i, m in enumerate(m_db)]\n",
        "                # Update parameters\n",
        "                for i in range(len(theta_w)):\n",
        "                  norm_dw=np.linorg.norm(v_dw_corrected[i])\n",
        "                  norm_db=np.linorg.norm(v_db_corrected[i])\n",
        "                  theta_w[i] -= (eta * v_dw_nesterov[i] / (np.sqrt(norm_dw) + eps))-weight_decay*theta_w[i]  # Update weights\n",
        "                  theta_b[i] -= eta * v_db_nesterov[i] / (np.sqrt(norm_dw) + eps)  # Update biases\n",
        "            for a in d_w:\n",
        "                    a[:] = 0\n",
        "            for b in d_b:\n",
        "                    b[:] = 0\n",
        "            t+= 1\n",
        "        acc,loss=accuracy(theta_w,theta_b,x_train,y_train,activationfun,split,L_fun)\n",
        "        v_acc,v_loss=validation(theta_w,theta_b,x_train,y_train,activationfun,split,L_fun)\n",
        "        # print(acc)\n",
        "        wandb.log({\"Train_Accuracy\" : acc})\n",
        "        wandb.log({\"Train_Loss\" : loss})\n",
        "        wandb.log({\"Validation_acc\" : v_acc})\n",
        "        wandb.log({\"Validation_loss\" : v_loss})\n"
      ]
    },
    {
      "cell_type": "code",
      "execution_count": 50,
      "metadata": {
        "id": "JMX6QnR9PypH"
      },
      "outputs": [],
      "source": [
        "def gradient_descent(theta_w,theta_b,x_train,y_train, learning_rate, max_iterations,activationfun,split,weight_decay,L_fun):\n",
        "    for t in range(max_iterations):\n",
        "        # Forward propagation6\n",
        "        d_w = [[np.zeros_like(w) for w in layer] for layer in theta_w]\n",
        "        d_b = [[np.zeros_like(b) for b in layer] for layer in theta_b]\n",
        "        # print(d_w[-1])\n",
        "        for k in range (int(60000*(1-split))):\n",
        "            activations, pre_activations= forward_propagation(x_train[k],theta_w,theta_b,activationfun)\n",
        "\n",
        "            # Backward propagation\n",
        "            a = x_train[k].reshape(784,1)\n",
        "\n",
        "            gradients_weights, gradients_biases = backpropagation(a,y_train[k],activations, pre_activations,theta_w,theta_b,activationfun,L_fun)\n",
        "            gradients_weights.reverse()\n",
        "            gradients_biases.reverse()\n",
        "\n",
        "            d_w+=gradients_weights\n",
        "            d_b+=gradients_biases\n",
        "\n",
        "        # Update parameters using gradients\n",
        "            for i in range(len(theta_w)):\n",
        "              # theta_w[i] = theta_w[i] - learning_rate * np.sum(d_w[i], axis=0, keepdims=True)\n",
        "              # theta_b[i] = theta_b[i] - learning_rate * np.sum(d_b[i], axis=0, keepdims=True)\n",
        "              theta_w[i] = (theta_w[i] - learning_rate * gradients_weights[i])-weight_decay*theta_w[i]\n",
        "              theta_b[i] = theta_b[i] - learning_rate * gradients_biases[i]\n",
        "        acc,loss=accuracy(theta_w,theta_b,x_train,y_train,activationfun,split)\n",
        "        v_acc,v_loss=validation(theta_w,theta_b,x_train,y_train,activationfun,split)\n",
        "        wandb.log({\"Train_Accuracy\" : acc})\n",
        "        wandb.log({\"Train_Loss\" : loss})\n",
        "        wandb.log({\"Validation_acc\" : v_acc})\n",
        "        wandb.log({\"Validation_loss\" : v_loss})\n",
        "    # a=1\n",
        "    # return a\n",
        "# theta_w=[]\n",
        "# theta_b=[]\n",
        "\n",
        "# theta_w,theta_b=weights(3,32)\n",
        "\n",
        "# # theta_w,theta_b=xavier_weights(3,16)\n",
        "# learning_rate=0.0001\n",
        "# max_iterations=5\n",
        "# activationfun=\"tanh\"\n",
        "# gradient_descent(theta_w,theta_b,x_train,y_train, learning_rate, max_iterations,activationfun)\n",
        "# beta = 0.9\n",
        "# beta1=0.9\n",
        "# beta2=0.99\n",
        "# weight_decay=0\n",
        "# split=0.1\n",
        "# batch_size=16\n",
        "# L_fun=\"mean_squared_error\"\n",
        "# do_mgd(max_iterations, x_train, y_train, theta_w, theta_b, learning_rate, beta, weight_decay, activationfun,split,batch_size,L_fun)\n",
        "# do_nag(max_iterations, x_train, y_train, theta_w, theta_b, learning_rate, beta, weight_decay, activationfun,split,batch_size,L_fun)\n",
        "# do_rmsprop(max_iterations, x_train, y_train, theta_w, theta_b, learning_rate, beta, weight_decay, activationfun,split,batch_size,L_fun)\n",
        "# do_adam(max_iterations, x_train, y_train, theta_w, theta_b, learning_rate, beta, beta1, weight_decay, activationfun,split,batch_size,L_fun)\n",
        "# do_nadam(max_iterations, x_train, y_train, theta_w, theta_b, learning_rate, beta, beta1,weight_decay,activationfun)"
      ]
    },
    {
      "cell_type": "code",
      "execution_count": 51,
      "metadata": {
        "colab": {
          "base_uri": "https://localhost:8080/",
          "height": 1000,
          "referenced_widgets": [
            "ed65b8145ddb4838aa675670f2e191ff",
            "7d13018ca36e416684d9dc1ee054b2d2",
            "5277dedac78d4fbbb954d0bfe871037e",
            "08d0375b3fb14551bbd37aadda479d27",
            "d74cec460a964bf0a0811870df77aaa9",
            "8de8dd847ece437a8be50e3ed1e7ee60",
            "c5e1d7e1de1d4825830248d3ea30219c",
            "fc1f546b41ec4c8b9e84501ed771da18",
            "77ce4f7e8fa2402798b7cdc7c6465b94",
            "bf3965dab72b428c85aa91ddc2d2b7c6",
            "97c9865527284540bd3f95106b2aef03",
            "92cb963e69c145eb8c0cdc21f4c2ca2a",
            "ff4361cdcfc2439e8080fbba4c541450",
            "93f7413e12aa4ccc95091146e9af7e23",
            "f29792dba4774f3c83ae8b7785457c11",
            "e4bf657d83fb46d8a10d15aaabb23ab3"
          ]
        },
        "id": "aEFXqff89VWK",
        "outputId": "aec56457-34b3-437f-f9c3-f5b52066a03e"
      },
      "outputs": [
        {
          "output_type": "stream",
          "name": "stderr",
          "text": [
            "\u001b[34m\u001b[1mwandb\u001b[0m: \u001b[33mWARNING\u001b[0m Calling wandb.login() after wandb.init() has no effect.\n"
          ]
        },
        {
          "output_type": "stream",
          "name": "stdout",
          "text": [
            "Create sweep with ID: ogfu5nw8\n",
            "Sweep URL: https://wandb.ai/cs23m021/DL_Assignment_1/sweeps/ogfu5nw8\n"
          ]
        },
        {
          "output_type": "stream",
          "name": "stderr",
          "text": [
            "\u001b[34m\u001b[1mwandb\u001b[0m: Agent Starting Run: kjhtku43 with config:\n",
            "\u001b[34m\u001b[1mwandb\u001b[0m: \tL_fun: mean_squared_error\n",
            "\u001b[34m\u001b[1mwandb\u001b[0m: \tactivationfun: tanh\n",
            "\u001b[34m\u001b[1mwandb\u001b[0m: \tbatch_size: 64\n",
            "\u001b[34m\u001b[1mwandb\u001b[0m: \tlearning_rate: 0.0001\n",
            "\u001b[34m\u001b[1mwandb\u001b[0m: \tmax_iterations: 10\n",
            "\u001b[34m\u001b[1mwandb\u001b[0m: \tn: 5\n",
            "\u001b[34m\u001b[1mwandb\u001b[0m: \tneurons: 128\n",
            "\u001b[34m\u001b[1mwandb\u001b[0m: \toptimization_algorithm: nadam\n",
            "\u001b[34m\u001b[1mwandb\u001b[0m: \tweightInit: xavier\n",
            "\u001b[34m\u001b[1mwandb\u001b[0m: \tweight_decay: 0\n",
            "\u001b[34m\u001b[1mwandb\u001b[0m: \u001b[33mWARNING\u001b[0m Ignored wandb.init() arg project when running a sweep.\n",
            "\u001b[34m\u001b[1mwandb\u001b[0m: \u001b[33mWARNING\u001b[0m Ignored wandb.init() arg entity when running a sweep.\n"
          ]
        },
        {
          "output_type": "display_data",
          "data": {
            "text/plain": [
              "<IPython.core.display.HTML object>"
            ],
            "text/html": [
              "Tracking run with wandb version 0.16.4"
            ]
          },
          "metadata": {}
        },
        {
          "output_type": "display_data",
          "data": {
            "text/plain": [
              "<IPython.core.display.HTML object>"
            ],
            "text/html": [
              "Run data is saved locally in <code>/content/wandb/run-20240317_044314-kjhtku43</code>"
            ]
          },
          "metadata": {}
        },
        {
          "output_type": "display_data",
          "data": {
            "text/plain": [
              "<IPython.core.display.HTML object>"
            ],
            "text/html": [
              "Syncing run <strong><a href='https://wandb.ai/cs23m021/DL_Assignment_1/runs/kjhtku43' target=\"_blank\">noble-sweep-1</a></strong> to <a href='https://wandb.ai/cs23m021/DL_Assignment_1' target=\"_blank\">Weights & Biases</a> (<a href='https://wandb.me/run' target=\"_blank\">docs</a>)<br/>Sweep page: <a href='https://wandb.ai/cs23m021/DL_Assignment_1/sweeps/ogfu5nw8' target=\"_blank\">https://wandb.ai/cs23m021/DL_Assignment_1/sweeps/ogfu5nw8</a>"
            ]
          },
          "metadata": {}
        },
        {
          "output_type": "display_data",
          "data": {
            "text/plain": [
              "<IPython.core.display.HTML object>"
            ],
            "text/html": [
              " View project at <a href='https://wandb.ai/cs23m021/DL_Assignment_1' target=\"_blank\">https://wandb.ai/cs23m021/DL_Assignment_1</a>"
            ]
          },
          "metadata": {}
        },
        {
          "output_type": "display_data",
          "data": {
            "text/plain": [
              "<IPython.core.display.HTML object>"
            ],
            "text/html": [
              " View sweep at <a href='https://wandb.ai/cs23m021/DL_Assignment_1/sweeps/ogfu5nw8' target=\"_blank\">https://wandb.ai/cs23m021/DL_Assignment_1/sweeps/ogfu5nw8</a>"
            ]
          },
          "metadata": {}
        },
        {
          "output_type": "display_data",
          "data": {
            "text/plain": [
              "<IPython.core.display.HTML object>"
            ],
            "text/html": [
              " View run at <a href='https://wandb.ai/cs23m021/DL_Assignment_1/runs/kjhtku43' target=\"_blank\">https://wandb.ai/cs23m021/DL_Assignment_1/runs/kjhtku43</a>"
            ]
          },
          "metadata": {}
        },
        {
          "output_type": "stream",
          "name": "stderr",
          "text": [
            "\u001b[34m\u001b[1mwandb\u001b[0m: \u001b[33mWARNING\u001b[0m Ignored wandb.init() arg project when running a sweep.\n"
          ]
        },
        {
          "output_type": "display_data",
          "data": {
            "text/plain": [
              "<IPython.core.display.HTML object>"
            ],
            "text/html": [
              "Finishing last run (ID:kjhtku43) before initializing another..."
            ]
          },
          "metadata": {}
        },
        {
          "output_type": "display_data",
          "data": {
            "text/plain": [
              "VBox(children=(Label(value='0.001 MB of 0.001 MB uploaded\\r'), FloatProgress(value=1.0, max=1.0)))"
            ],
            "application/vnd.jupyter.widget-view+json": {
              "version_major": 2,
              "version_minor": 0,
              "model_id": "ed65b8145ddb4838aa675670f2e191ff"
            }
          },
          "metadata": {}
        },
        {
          "output_type": "display_data",
          "data": {
            "text/plain": [
              "<IPython.core.display.HTML object>"
            ],
            "text/html": [
              " View run <strong style=\"color:#cdcd00\">noble-sweep-1</strong> at: <a href='https://wandb.ai/cs23m021/DL_Assignment_1/runs/kjhtku43' target=\"_blank\">https://wandb.ai/cs23m021/DL_Assignment_1/runs/kjhtku43</a><br/>Synced 5 W&B file(s), 0 media file(s), 0 artifact file(s) and 0 other file(s)"
            ]
          },
          "metadata": {}
        },
        {
          "output_type": "display_data",
          "data": {
            "text/plain": [
              "<IPython.core.display.HTML object>"
            ],
            "text/html": [
              "Find logs at: <code>./wandb/run-20240317_044314-kjhtku43/logs</code>"
            ]
          },
          "metadata": {}
        },
        {
          "output_type": "display_data",
          "data": {
            "text/plain": [
              "<IPython.core.display.HTML object>"
            ],
            "text/html": [
              "Successfully finished last run (ID:kjhtku43). Initializing new run:<br/>"
            ]
          },
          "metadata": {}
        },
        {
          "output_type": "display_data",
          "data": {
            "text/plain": [
              "VBox(children=(Label(value='Waiting for wandb.init()...\\r'), FloatProgress(value=0.011113533477777713, max=1.0…"
            ],
            "application/vnd.jupyter.widget-view+json": {
              "version_major": 2,
              "version_minor": 0,
              "model_id": "77ce4f7e8fa2402798b7cdc7c6465b94"
            }
          },
          "metadata": {}
        },
        {
          "output_type": "display_data",
          "data": {
            "text/plain": [
              "<IPython.core.display.HTML object>"
            ],
            "text/html": [
              "Tracking run with wandb version 0.16.4"
            ]
          },
          "metadata": {}
        },
        {
          "output_type": "display_data",
          "data": {
            "text/plain": [
              "<IPython.core.display.HTML object>"
            ],
            "text/html": [
              "Run data is saved locally in <code>/content/wandb/run-20240317_044318-kjhtku43</code>"
            ]
          },
          "metadata": {}
        },
        {
          "output_type": "display_data",
          "data": {
            "text/plain": [
              "<IPython.core.display.HTML object>"
            ],
            "text/html": [
              "Syncing run <strong><a href='https://wandb.ai/cs23m021/DL_Assignment_1/runs/kjhtku43' target=\"_blank\">noble-sweep-1</a></strong> to <a href='https://wandb.ai/cs23m021/DL_Assignment_1' target=\"_blank\">Weights & Biases</a> (<a href='https://wandb.me/run' target=\"_blank\">docs</a>)<br/>Sweep page: <a href='https://wandb.ai/cs23m021/DL_Assignment_1/sweeps/ogfu5nw8' target=\"_blank\">https://wandb.ai/cs23m021/DL_Assignment_1/sweeps/ogfu5nw8</a>"
            ]
          },
          "metadata": {}
        },
        {
          "output_type": "display_data",
          "data": {
            "text/plain": [
              "<IPython.core.display.HTML object>"
            ],
            "text/html": [
              " View project at <a href='https://wandb.ai/cs23m021/DL_Assignment_1' target=\"_blank\">https://wandb.ai/cs23m021/DL_Assignment_1</a>"
            ]
          },
          "metadata": {}
        },
        {
          "output_type": "display_data",
          "data": {
            "text/plain": [
              "<IPython.core.display.HTML object>"
            ],
            "text/html": [
              " View sweep at <a href='https://wandb.ai/cs23m021/DL_Assignment_1/sweeps/ogfu5nw8' target=\"_blank\">https://wandb.ai/cs23m021/DL_Assignment_1/sweeps/ogfu5nw8</a>"
            ]
          },
          "metadata": {}
        },
        {
          "output_type": "display_data",
          "data": {
            "text/plain": [
              "<IPython.core.display.HTML object>"
            ],
            "text/html": [
              " View run at <a href='https://wandb.ai/cs23m021/DL_Assignment_1/runs/kjhtku43' target=\"_blank\">https://wandb.ai/cs23m021/DL_Assignment_1/runs/kjhtku43</a>"
            ]
          },
          "metadata": {}
        },
        {
          "output_type": "stream",
          "name": "stderr",
          "text": [
            "\u001b[34m\u001b[1mwandb\u001b[0m: Ctrl + C detected. Stopping sweep.\n"
          ]
        },
        {
          "output_type": "stream",
          "name": "stdout",
          "text": [
            "Error in callback <bound method _WandbInit._pause_backend of <wandb.sdk.wandb_init._WandbInit object at 0x7fe7d3f32fb0>> (for post_run_cell):\n"
          ]
        },
        {
          "output_type": "error",
          "ename": "BrokenPipeError",
          "evalue": "[Errno 32] Broken pipe",
          "traceback": [
            "\u001b[0;31m---------------------------------------------------------------------------\u001b[0m",
            "\u001b[0;31mBrokenPipeError\u001b[0m                           Traceback (most recent call last)",
            "\u001b[0;32m/usr/local/lib/python3.10/dist-packages/wandb/sdk/wandb_init.py\u001b[0m in \u001b[0;36m_pause_backend\u001b[0;34m(self, *args, **kwargs)\u001b[0m\n\u001b[1;32m    436\u001b[0m         \u001b[0;32mif\u001b[0m \u001b[0mself\u001b[0m\u001b[0;34m.\u001b[0m\u001b[0mbackend\u001b[0m\u001b[0;34m.\u001b[0m\u001b[0minterface\u001b[0m \u001b[0;32mis\u001b[0m \u001b[0;32mnot\u001b[0m \u001b[0;32mNone\u001b[0m\u001b[0;34m:\u001b[0m\u001b[0;34m\u001b[0m\u001b[0;34m\u001b[0m\u001b[0m\n\u001b[1;32m    437\u001b[0m             \u001b[0mlogger\u001b[0m\u001b[0;34m.\u001b[0m\u001b[0minfo\u001b[0m\u001b[0;34m(\u001b[0m\u001b[0;34m\"pausing backend\"\u001b[0m\u001b[0;34m)\u001b[0m  \u001b[0;31m# type: ignore\u001b[0m\u001b[0;34m\u001b[0m\u001b[0;34m\u001b[0m\u001b[0m\n\u001b[0;32m--> 438\u001b[0;31m             \u001b[0mself\u001b[0m\u001b[0;34m.\u001b[0m\u001b[0mbackend\u001b[0m\u001b[0;34m.\u001b[0m\u001b[0minterface\u001b[0m\u001b[0;34m.\u001b[0m\u001b[0mpublish_pause\u001b[0m\u001b[0;34m(\u001b[0m\u001b[0;34m)\u001b[0m\u001b[0;34m\u001b[0m\u001b[0;34m\u001b[0m\u001b[0m\n\u001b[0m\u001b[1;32m    439\u001b[0m \u001b[0;34m\u001b[0m\u001b[0m\n\u001b[1;32m    440\u001b[0m     \u001b[0;32mdef\u001b[0m \u001b[0m_resume_backend\u001b[0m\u001b[0;34m(\u001b[0m\u001b[0mself\u001b[0m\u001b[0;34m,\u001b[0m \u001b[0;34m*\u001b[0m\u001b[0margs\u001b[0m\u001b[0;34m:\u001b[0m \u001b[0mAny\u001b[0m\u001b[0;34m,\u001b[0m \u001b[0;34m**\u001b[0m\u001b[0mkwargs\u001b[0m\u001b[0;34m:\u001b[0m \u001b[0mAny\u001b[0m\u001b[0;34m)\u001b[0m \u001b[0;34m->\u001b[0m \u001b[0;32mNone\u001b[0m\u001b[0;34m:\u001b[0m  \u001b[0;31m#  noqa\u001b[0m\u001b[0;34m\u001b[0m\u001b[0;34m\u001b[0m\u001b[0m\n",
            "\u001b[0;32m/usr/local/lib/python3.10/dist-packages/wandb/sdk/interface/interface.py\u001b[0m in \u001b[0;36mpublish_pause\u001b[0;34m(self)\u001b[0m\n\u001b[1;32m    657\u001b[0m     \u001b[0;32mdef\u001b[0m \u001b[0mpublish_pause\u001b[0m\u001b[0;34m(\u001b[0m\u001b[0mself\u001b[0m\u001b[0;34m)\u001b[0m \u001b[0;34m->\u001b[0m \u001b[0;32mNone\u001b[0m\u001b[0;34m:\u001b[0m\u001b[0;34m\u001b[0m\u001b[0;34m\u001b[0m\u001b[0m\n\u001b[1;32m    658\u001b[0m         \u001b[0mpause\u001b[0m \u001b[0;34m=\u001b[0m \u001b[0mpb\u001b[0m\u001b[0;34m.\u001b[0m\u001b[0mPauseRequest\u001b[0m\u001b[0;34m(\u001b[0m\u001b[0;34m)\u001b[0m\u001b[0;34m\u001b[0m\u001b[0;34m\u001b[0m\u001b[0m\n\u001b[0;32m--> 659\u001b[0;31m         \u001b[0mself\u001b[0m\u001b[0;34m.\u001b[0m\u001b[0m_publish_pause\u001b[0m\u001b[0;34m(\u001b[0m\u001b[0mpause\u001b[0m\u001b[0;34m)\u001b[0m\u001b[0;34m\u001b[0m\u001b[0;34m\u001b[0m\u001b[0m\n\u001b[0m\u001b[1;32m    660\u001b[0m \u001b[0;34m\u001b[0m\u001b[0m\n\u001b[1;32m    661\u001b[0m     \u001b[0;34m@\u001b[0m\u001b[0mabstractmethod\u001b[0m\u001b[0;34m\u001b[0m\u001b[0;34m\u001b[0m\u001b[0m\n",
            "\u001b[0;32m/usr/local/lib/python3.10/dist-packages/wandb/sdk/interface/interface_shared.py\u001b[0m in \u001b[0;36m_publish_pause\u001b[0;34m(self, pause)\u001b[0m\n\u001b[1;32m    353\u001b[0m     \u001b[0;32mdef\u001b[0m \u001b[0m_publish_pause\u001b[0m\u001b[0;34m(\u001b[0m\u001b[0mself\u001b[0m\u001b[0;34m,\u001b[0m \u001b[0mpause\u001b[0m\u001b[0;34m:\u001b[0m \u001b[0mpb\u001b[0m\u001b[0;34m.\u001b[0m\u001b[0mPauseRequest\u001b[0m\u001b[0;34m)\u001b[0m \u001b[0;34m->\u001b[0m \u001b[0;32mNone\u001b[0m\u001b[0;34m:\u001b[0m\u001b[0;34m\u001b[0m\u001b[0;34m\u001b[0m\u001b[0m\n\u001b[1;32m    354\u001b[0m         \u001b[0mrec\u001b[0m \u001b[0;34m=\u001b[0m \u001b[0mself\u001b[0m\u001b[0;34m.\u001b[0m\u001b[0m_make_request\u001b[0m\u001b[0;34m(\u001b[0m\u001b[0mpause\u001b[0m\u001b[0;34m=\u001b[0m\u001b[0mpause\u001b[0m\u001b[0;34m)\u001b[0m\u001b[0;34m\u001b[0m\u001b[0;34m\u001b[0m\u001b[0m\n\u001b[0;32m--> 355\u001b[0;31m         \u001b[0mself\u001b[0m\u001b[0;34m.\u001b[0m\u001b[0m_publish\u001b[0m\u001b[0;34m(\u001b[0m\u001b[0mrec\u001b[0m\u001b[0;34m)\u001b[0m\u001b[0;34m\u001b[0m\u001b[0;34m\u001b[0m\u001b[0m\n\u001b[0m\u001b[1;32m    356\u001b[0m \u001b[0;34m\u001b[0m\u001b[0m\n\u001b[1;32m    357\u001b[0m     \u001b[0;32mdef\u001b[0m \u001b[0m_publish_resume\u001b[0m\u001b[0;34m(\u001b[0m\u001b[0mself\u001b[0m\u001b[0;34m,\u001b[0m \u001b[0mresume\u001b[0m\u001b[0;34m:\u001b[0m \u001b[0mpb\u001b[0m\u001b[0;34m.\u001b[0m\u001b[0mResumeRequest\u001b[0m\u001b[0;34m)\u001b[0m \u001b[0;34m->\u001b[0m \u001b[0;32mNone\u001b[0m\u001b[0;34m:\u001b[0m\u001b[0;34m\u001b[0m\u001b[0;34m\u001b[0m\u001b[0m\n",
            "\u001b[0;32m/usr/local/lib/python3.10/dist-packages/wandb/sdk/interface/interface_sock.py\u001b[0m in \u001b[0;36m_publish\u001b[0;34m(self, record, local)\u001b[0m\n\u001b[1;32m     49\u001b[0m     \u001b[0;32mdef\u001b[0m \u001b[0m_publish\u001b[0m\u001b[0;34m(\u001b[0m\u001b[0mself\u001b[0m\u001b[0;34m,\u001b[0m \u001b[0mrecord\u001b[0m\u001b[0;34m:\u001b[0m \u001b[0;34m\"pb.Record\"\u001b[0m\u001b[0;34m,\u001b[0m \u001b[0mlocal\u001b[0m\u001b[0;34m:\u001b[0m \u001b[0mOptional\u001b[0m\u001b[0;34m[\u001b[0m\u001b[0mbool\u001b[0m\u001b[0;34m]\u001b[0m \u001b[0;34m=\u001b[0m \u001b[0;32mNone\u001b[0m\u001b[0;34m)\u001b[0m \u001b[0;34m->\u001b[0m \u001b[0;32mNone\u001b[0m\u001b[0;34m:\u001b[0m\u001b[0;34m\u001b[0m\u001b[0;34m\u001b[0m\u001b[0m\n\u001b[1;32m     50\u001b[0m         \u001b[0mself\u001b[0m\u001b[0;34m.\u001b[0m\u001b[0m_assign\u001b[0m\u001b[0;34m(\u001b[0m\u001b[0mrecord\u001b[0m\u001b[0;34m)\u001b[0m\u001b[0;34m\u001b[0m\u001b[0;34m\u001b[0m\u001b[0m\n\u001b[0;32m---> 51\u001b[0;31m         \u001b[0mself\u001b[0m\u001b[0;34m.\u001b[0m\u001b[0m_sock_client\u001b[0m\u001b[0;34m.\u001b[0m\u001b[0msend_record_publish\u001b[0m\u001b[0;34m(\u001b[0m\u001b[0mrecord\u001b[0m\u001b[0;34m)\u001b[0m\u001b[0;34m\u001b[0m\u001b[0;34m\u001b[0m\u001b[0m\n\u001b[0m\u001b[1;32m     52\u001b[0m \u001b[0;34m\u001b[0m\u001b[0m\n\u001b[1;32m     53\u001b[0m     def _communicate_async(\n",
            "\u001b[0;32m/usr/local/lib/python3.10/dist-packages/wandb/sdk/lib/sock_client.py\u001b[0m in \u001b[0;36msend_record_publish\u001b[0;34m(self, record)\u001b[0m\n\u001b[1;32m    219\u001b[0m         \u001b[0mserver_req\u001b[0m \u001b[0;34m=\u001b[0m \u001b[0mspb\u001b[0m\u001b[0;34m.\u001b[0m\u001b[0mServerRequest\u001b[0m\u001b[0;34m(\u001b[0m\u001b[0;34m)\u001b[0m\u001b[0;34m\u001b[0m\u001b[0;34m\u001b[0m\u001b[0m\n\u001b[1;32m    220\u001b[0m         \u001b[0mserver_req\u001b[0m\u001b[0;34m.\u001b[0m\u001b[0mrecord_publish\u001b[0m\u001b[0;34m.\u001b[0m\u001b[0mCopyFrom\u001b[0m\u001b[0;34m(\u001b[0m\u001b[0mrecord\u001b[0m\u001b[0;34m)\u001b[0m\u001b[0;34m\u001b[0m\u001b[0;34m\u001b[0m\u001b[0m\n\u001b[0;32m--> 221\u001b[0;31m         \u001b[0mself\u001b[0m\u001b[0;34m.\u001b[0m\u001b[0msend_server_request\u001b[0m\u001b[0;34m(\u001b[0m\u001b[0mserver_req\u001b[0m\u001b[0;34m)\u001b[0m\u001b[0;34m\u001b[0m\u001b[0;34m\u001b[0m\u001b[0m\n\u001b[0m\u001b[1;32m    222\u001b[0m \u001b[0;34m\u001b[0m\u001b[0m\n\u001b[1;32m    223\u001b[0m     \u001b[0;32mdef\u001b[0m \u001b[0m_extract_packet_bytes\u001b[0m\u001b[0;34m(\u001b[0m\u001b[0mself\u001b[0m\u001b[0;34m)\u001b[0m \u001b[0;34m->\u001b[0m \u001b[0mOptional\u001b[0m\u001b[0;34m[\u001b[0m\u001b[0mbytes\u001b[0m\u001b[0;34m]\u001b[0m\u001b[0;34m:\u001b[0m\u001b[0;34m\u001b[0m\u001b[0;34m\u001b[0m\u001b[0m\n",
            "\u001b[0;32m/usr/local/lib/python3.10/dist-packages/wandb/sdk/lib/sock_client.py\u001b[0m in \u001b[0;36msend_server_request\u001b[0;34m(self, msg)\u001b[0m\n\u001b[1;32m    153\u001b[0m \u001b[0;34m\u001b[0m\u001b[0m\n\u001b[1;32m    154\u001b[0m     \u001b[0;32mdef\u001b[0m \u001b[0msend_server_request\u001b[0m\u001b[0;34m(\u001b[0m\u001b[0mself\u001b[0m\u001b[0;34m,\u001b[0m \u001b[0mmsg\u001b[0m\u001b[0;34m:\u001b[0m \u001b[0mAny\u001b[0m\u001b[0;34m)\u001b[0m \u001b[0;34m->\u001b[0m \u001b[0;32mNone\u001b[0m\u001b[0;34m:\u001b[0m\u001b[0;34m\u001b[0m\u001b[0;34m\u001b[0m\u001b[0m\n\u001b[0;32m--> 155\u001b[0;31m         \u001b[0mself\u001b[0m\u001b[0;34m.\u001b[0m\u001b[0m_send_message\u001b[0m\u001b[0;34m(\u001b[0m\u001b[0mmsg\u001b[0m\u001b[0;34m)\u001b[0m\u001b[0;34m\u001b[0m\u001b[0;34m\u001b[0m\u001b[0m\n\u001b[0m\u001b[1;32m    156\u001b[0m \u001b[0;34m\u001b[0m\u001b[0m\n\u001b[1;32m    157\u001b[0m     \u001b[0;32mdef\u001b[0m \u001b[0msend_server_response\u001b[0m\u001b[0;34m(\u001b[0m\u001b[0mself\u001b[0m\u001b[0;34m,\u001b[0m \u001b[0mmsg\u001b[0m\u001b[0;34m:\u001b[0m \u001b[0mAny\u001b[0m\u001b[0;34m)\u001b[0m \u001b[0;34m->\u001b[0m \u001b[0;32mNone\u001b[0m\u001b[0;34m:\u001b[0m\u001b[0;34m\u001b[0m\u001b[0;34m\u001b[0m\u001b[0m\n",
            "\u001b[0;32m/usr/local/lib/python3.10/dist-packages/wandb/sdk/lib/sock_client.py\u001b[0m in \u001b[0;36m_send_message\u001b[0;34m(self, msg)\u001b[0m\n\u001b[1;32m    150\u001b[0m         \u001b[0mheader\u001b[0m \u001b[0;34m=\u001b[0m \u001b[0mstruct\u001b[0m\u001b[0;34m.\u001b[0m\u001b[0mpack\u001b[0m\u001b[0;34m(\u001b[0m\u001b[0;34m\"<BI\"\u001b[0m\u001b[0;34m,\u001b[0m \u001b[0mord\u001b[0m\u001b[0;34m(\u001b[0m\u001b[0;34m\"W\"\u001b[0m\u001b[0;34m)\u001b[0m\u001b[0;34m,\u001b[0m \u001b[0mraw_size\u001b[0m\u001b[0;34m)\u001b[0m\u001b[0;34m\u001b[0m\u001b[0;34m\u001b[0m\u001b[0m\n\u001b[1;32m    151\u001b[0m         \u001b[0;32mwith\u001b[0m \u001b[0mself\u001b[0m\u001b[0;34m.\u001b[0m\u001b[0m_lock\u001b[0m\u001b[0;34m:\u001b[0m\u001b[0;34m\u001b[0m\u001b[0;34m\u001b[0m\u001b[0m\n\u001b[0;32m--> 152\u001b[0;31m             \u001b[0mself\u001b[0m\u001b[0;34m.\u001b[0m\u001b[0m_sendall_with_error_handle\u001b[0m\u001b[0;34m(\u001b[0m\u001b[0mheader\u001b[0m \u001b[0;34m+\u001b[0m \u001b[0mdata\u001b[0m\u001b[0;34m)\u001b[0m\u001b[0;34m\u001b[0m\u001b[0;34m\u001b[0m\u001b[0m\n\u001b[0m\u001b[1;32m    153\u001b[0m \u001b[0;34m\u001b[0m\u001b[0m\n\u001b[1;32m    154\u001b[0m     \u001b[0;32mdef\u001b[0m \u001b[0msend_server_request\u001b[0m\u001b[0;34m(\u001b[0m\u001b[0mself\u001b[0m\u001b[0;34m,\u001b[0m \u001b[0mmsg\u001b[0m\u001b[0;34m:\u001b[0m \u001b[0mAny\u001b[0m\u001b[0;34m)\u001b[0m \u001b[0;34m->\u001b[0m \u001b[0;32mNone\u001b[0m\u001b[0;34m:\u001b[0m\u001b[0;34m\u001b[0m\u001b[0;34m\u001b[0m\u001b[0m\n",
            "\u001b[0;32m/usr/local/lib/python3.10/dist-packages/wandb/sdk/lib/sock_client.py\u001b[0m in \u001b[0;36m_sendall_with_error_handle\u001b[0;34m(self, data)\u001b[0m\n\u001b[1;32m    128\u001b[0m             \u001b[0mstart_time\u001b[0m \u001b[0;34m=\u001b[0m \u001b[0mtime\u001b[0m\u001b[0;34m.\u001b[0m\u001b[0mmonotonic\u001b[0m\u001b[0;34m(\u001b[0m\u001b[0;34m)\u001b[0m\u001b[0;34m\u001b[0m\u001b[0;34m\u001b[0m\u001b[0m\n\u001b[1;32m    129\u001b[0m             \u001b[0;32mtry\u001b[0m\u001b[0;34m:\u001b[0m\u001b[0;34m\u001b[0m\u001b[0;34m\u001b[0m\u001b[0m\n\u001b[0;32m--> 130\u001b[0;31m                 \u001b[0msent\u001b[0m \u001b[0;34m=\u001b[0m \u001b[0mself\u001b[0m\u001b[0;34m.\u001b[0m\u001b[0m_sock\u001b[0m\u001b[0;34m.\u001b[0m\u001b[0msend\u001b[0m\u001b[0;34m(\u001b[0m\u001b[0mdata\u001b[0m\u001b[0;34m)\u001b[0m\u001b[0;34m\u001b[0m\u001b[0;34m\u001b[0m\u001b[0m\n\u001b[0m\u001b[1;32m    131\u001b[0m                 \u001b[0;31m# sent equal to 0 indicates a closed socket\u001b[0m\u001b[0;34m\u001b[0m\u001b[0;34m\u001b[0m\u001b[0m\n\u001b[1;32m    132\u001b[0m                 \u001b[0;32mif\u001b[0m \u001b[0msent\u001b[0m \u001b[0;34m==\u001b[0m \u001b[0;36m0\u001b[0m\u001b[0;34m:\u001b[0m\u001b[0;34m\u001b[0m\u001b[0;34m\u001b[0m\u001b[0m\n",
            "\u001b[0;31mBrokenPipeError\u001b[0m: [Errno 32] Broken pipe"
          ]
        }
      ],
      "source": [
        "def mainfunction(optimization_algorithm,max_iterations, x_train, y_train, theta_w, theta_b,learning_rate, beta,beta1,weight_decay,activationfun,split,batch_size,L_fun):\n",
        "  if optimization_algorithm == 'mgd':\n",
        "    do_mgd(max_iterations, x_train, y_train, theta_w, theta_b, learning_rate, beta, weight_decay, activationfun,split,batch_size,L_fun)\n",
        "  elif optimization_algorithm == 'ngd':\n",
        "    do_nag(max_iterations, x_train, y_train, theta_w, theta_b, learning_rate, beta, weight_decay, activationfun,split,batch_size,L_fun)\n",
        "  elif optimization_algorithm == 'rmsprop':\n",
        "    do_rmsprop(max_iterations, x_train, y_train, theta_w, theta_b, learning_rate, beta, weight_decay, activationfun,split,batch_size,L_fun)\n",
        "  elif optimization_algorithm == 'adam':\n",
        "    do_adam(max_iterations, x_train, y_train, theta_w, theta_b, learning_rate, beta, beta1, weight_decay, activationfun,split,batch_size,L_fun)\n",
        "  elif optimization_algorithm == 'nadam':\n",
        "    do_nadam(max_iterations, x_train, y_train, theta_w, theta_b, learning_rate, beta, beta1, weight_decay, activationfun,split,batch_size,L_fun)\n",
        "  else:\n",
        "    gradient_descent(theta_w,theta_b,x_train,y_train, learning_rate, max_iterations,activationfun,split,weight_decay)\n",
        "\n",
        "def main():\n",
        "  wandb.init(project=\"DL_Assignment_1\", entity=\"cs23m021\")\n",
        "  p=wandb.config\n",
        "  with wandb.init(project='DL_Assignment_1') as run:\n",
        "    theta_w=[]\n",
        "    theta_b=[]\n",
        "    if (p.weightInit==\"random\"):\n",
        "      theta_w,theta_b=weights(p.n,p.neurons)\n",
        "    if (p.weightInit==\"xavier\"):\n",
        "      theta_w,theta_b=xavier_weights(p.n,p.neurons)\n",
        "    mainfunction(p.optimization_algorithm,p.max_iterations,x_train, y_train,theta_w, theta_b,p.learning_rate,0.9,0.99,p.weight_decay,p.activationfun,0.1,p.batch_size,p.L_fun)\n",
        "\n",
        "parameters_from_sweep = {\n",
        "    'method' : 'bayes',\n",
        "    'name'   : 'Accuracy',\n",
        "    'metric' : {\n",
        "        'goal' : 'maximize',\n",
        "        'name' : 'Accuracy',\n",
        "    },\n",
        "    'parameters' : {\n",
        "        'neurons':{'values':[32,64,128]},\n",
        "        'optimization_algorithm':{'values':['mgd','ngd','rmsprop','adam','nadam','sgd']},\n",
        "        'max_iterations' : {'values' : [5,10]},\n",
        "        'n'       : {'values' : [3,4,5]},\n",
        "        'weight_decay' : {'values' : [0] } ,\n",
        "        'learning_rate' : {'values' : [0.0001,0.00001]},\n",
        "        'weightInit' : {'values': ['random','xavier']},\n",
        "        'batch_size' : {'values': [16,32,64]},\n",
        "        'L_fun':{'values':['cross_entropy','mean_squared_error']},\n",
        "        'activationfun' : {'values' : ['sigmoid','tanh','relu']}\n",
        "    }\n",
        "}\n",
        "\n",
        "sweepId = wandb.sweep(parameters_from_sweep,project = 'DL_Assignment_1')\n",
        "wandb.agent(sweepId,function=main,count=2)"
      ]
    }
  ],
  "metadata": {
    "colab": {
      "provenance": [],
      "authorship_tag": "ABX9TyN2kPlLXTSR8j3r/rVgA8jo",
      "include_colab_link": true
    },
    "kernelspec": {
      "display_name": "Python 3",
      "name": "python3"
    },
    "language_info": {
      "name": "python"
    },
    "widgets": {
      "application/vnd.jupyter.widget-state+json": {
        "ed65b8145ddb4838aa675670f2e191ff": {
          "model_module": "@jupyter-widgets/controls",
          "model_name": "VBoxModel",
          "model_module_version": "1.5.0",
          "state": {
            "_dom_classes": [],
            "_model_module": "@jupyter-widgets/controls",
            "_model_module_version": "1.5.0",
            "_model_name": "VBoxModel",
            "_view_count": null,
            "_view_module": "@jupyter-widgets/controls",
            "_view_module_version": "1.5.0",
            "_view_name": "VBoxView",
            "box_style": "",
            "children": [
              "IPY_MODEL_7d13018ca36e416684d9dc1ee054b2d2",
              "IPY_MODEL_5277dedac78d4fbbb954d0bfe871037e"
            ],
            "layout": "IPY_MODEL_08d0375b3fb14551bbd37aadda479d27"
          }
        },
        "7d13018ca36e416684d9dc1ee054b2d2": {
          "model_module": "@jupyter-widgets/controls",
          "model_name": "LabelModel",
          "model_module_version": "1.5.0",
          "state": {
            "_dom_classes": [],
            "_model_module": "@jupyter-widgets/controls",
            "_model_module_version": "1.5.0",
            "_model_name": "LabelModel",
            "_view_count": null,
            "_view_module": "@jupyter-widgets/controls",
            "_view_module_version": "1.5.0",
            "_view_name": "LabelView",
            "description": "",
            "description_tooltip": null,
            "layout": "IPY_MODEL_d74cec460a964bf0a0811870df77aaa9",
            "placeholder": "​",
            "style": "IPY_MODEL_8de8dd847ece437a8be50e3ed1e7ee60",
            "value": "0.010 MB of 0.010 MB uploaded\r"
          }
        },
        "5277dedac78d4fbbb954d0bfe871037e": {
          "model_module": "@jupyter-widgets/controls",
          "model_name": "FloatProgressModel",
          "model_module_version": "1.5.0",
          "state": {
            "_dom_classes": [],
            "_model_module": "@jupyter-widgets/controls",
            "_model_module_version": "1.5.0",
            "_model_name": "FloatProgressModel",
            "_view_count": null,
            "_view_module": "@jupyter-widgets/controls",
            "_view_module_version": "1.5.0",
            "_view_name": "ProgressView",
            "bar_style": "",
            "description": "",
            "description_tooltip": null,
            "layout": "IPY_MODEL_c5e1d7e1de1d4825830248d3ea30219c",
            "max": 1,
            "min": 0,
            "orientation": "horizontal",
            "style": "IPY_MODEL_fc1f546b41ec4c8b9e84501ed771da18",
            "value": 1
          }
        },
        "08d0375b3fb14551bbd37aadda479d27": {
          "model_module": "@jupyter-widgets/base",
          "model_name": "LayoutModel",
          "model_module_version": "1.2.0",
          "state": {
            "_model_module": "@jupyter-widgets/base",
            "_model_module_version": "1.2.0",
            "_model_name": "LayoutModel",
            "_view_count": null,
            "_view_module": "@jupyter-widgets/base",
            "_view_module_version": "1.2.0",
            "_view_name": "LayoutView",
            "align_content": null,
            "align_items": null,
            "align_self": null,
            "border": null,
            "bottom": null,
            "display": null,
            "flex": null,
            "flex_flow": null,
            "grid_area": null,
            "grid_auto_columns": null,
            "grid_auto_flow": null,
            "grid_auto_rows": null,
            "grid_column": null,
            "grid_gap": null,
            "grid_row": null,
            "grid_template_areas": null,
            "grid_template_columns": null,
            "grid_template_rows": null,
            "height": null,
            "justify_content": null,
            "justify_items": null,
            "left": null,
            "margin": null,
            "max_height": null,
            "max_width": null,
            "min_height": null,
            "min_width": null,
            "object_fit": null,
            "object_position": null,
            "order": null,
            "overflow": null,
            "overflow_x": null,
            "overflow_y": null,
            "padding": null,
            "right": null,
            "top": null,
            "visibility": null,
            "width": null
          }
        },
        "d74cec460a964bf0a0811870df77aaa9": {
          "model_module": "@jupyter-widgets/base",
          "model_name": "LayoutModel",
          "model_module_version": "1.2.0",
          "state": {
            "_model_module": "@jupyter-widgets/base",
            "_model_module_version": "1.2.0",
            "_model_name": "LayoutModel",
            "_view_count": null,
            "_view_module": "@jupyter-widgets/base",
            "_view_module_version": "1.2.0",
            "_view_name": "LayoutView",
            "align_content": null,
            "align_items": null,
            "align_self": null,
            "border": null,
            "bottom": null,
            "display": null,
            "flex": null,
            "flex_flow": null,
            "grid_area": null,
            "grid_auto_columns": null,
            "grid_auto_flow": null,
            "grid_auto_rows": null,
            "grid_column": null,
            "grid_gap": null,
            "grid_row": null,
            "grid_template_areas": null,
            "grid_template_columns": null,
            "grid_template_rows": null,
            "height": null,
            "justify_content": null,
            "justify_items": null,
            "left": null,
            "margin": null,
            "max_height": null,
            "max_width": null,
            "min_height": null,
            "min_width": null,
            "object_fit": null,
            "object_position": null,
            "order": null,
            "overflow": null,
            "overflow_x": null,
            "overflow_y": null,
            "padding": null,
            "right": null,
            "top": null,
            "visibility": null,
            "width": null
          }
        },
        "8de8dd847ece437a8be50e3ed1e7ee60": {
          "model_module": "@jupyter-widgets/controls",
          "model_name": "DescriptionStyleModel",
          "model_module_version": "1.5.0",
          "state": {
            "_model_module": "@jupyter-widgets/controls",
            "_model_module_version": "1.5.0",
            "_model_name": "DescriptionStyleModel",
            "_view_count": null,
            "_view_module": "@jupyter-widgets/base",
            "_view_module_version": "1.2.0",
            "_view_name": "StyleView",
            "description_width": ""
          }
        },
        "c5e1d7e1de1d4825830248d3ea30219c": {
          "model_module": "@jupyter-widgets/base",
          "model_name": "LayoutModel",
          "model_module_version": "1.2.0",
          "state": {
            "_model_module": "@jupyter-widgets/base",
            "_model_module_version": "1.2.0",
            "_model_name": "LayoutModel",
            "_view_count": null,
            "_view_module": "@jupyter-widgets/base",
            "_view_module_version": "1.2.0",
            "_view_name": "LayoutView",
            "align_content": null,
            "align_items": null,
            "align_self": null,
            "border": null,
            "bottom": null,
            "display": null,
            "flex": null,
            "flex_flow": null,
            "grid_area": null,
            "grid_auto_columns": null,
            "grid_auto_flow": null,
            "grid_auto_rows": null,
            "grid_column": null,
            "grid_gap": null,
            "grid_row": null,
            "grid_template_areas": null,
            "grid_template_columns": null,
            "grid_template_rows": null,
            "height": null,
            "justify_content": null,
            "justify_items": null,
            "left": null,
            "margin": null,
            "max_height": null,
            "max_width": null,
            "min_height": null,
            "min_width": null,
            "object_fit": null,
            "object_position": null,
            "order": null,
            "overflow": null,
            "overflow_x": null,
            "overflow_y": null,
            "padding": null,
            "right": null,
            "top": null,
            "visibility": null,
            "width": null
          }
        },
        "fc1f546b41ec4c8b9e84501ed771da18": {
          "model_module": "@jupyter-widgets/controls",
          "model_name": "ProgressStyleModel",
          "model_module_version": "1.5.0",
          "state": {
            "_model_module": "@jupyter-widgets/controls",
            "_model_module_version": "1.5.0",
            "_model_name": "ProgressStyleModel",
            "_view_count": null,
            "_view_module": "@jupyter-widgets/base",
            "_view_module_version": "1.2.0",
            "_view_name": "StyleView",
            "bar_color": null,
            "description_width": ""
          }
        },
        "77ce4f7e8fa2402798b7cdc7c6465b94": {
          "model_module": "@jupyter-widgets/controls",
          "model_name": "VBoxModel",
          "model_module_version": "1.5.0",
          "state": {
            "_dom_classes": [],
            "_model_module": "@jupyter-widgets/controls",
            "_model_module_version": "1.5.0",
            "_model_name": "VBoxModel",
            "_view_count": null,
            "_view_module": "@jupyter-widgets/controls",
            "_view_module_version": "1.5.0",
            "_view_name": "VBoxView",
            "box_style": "",
            "children": [
              "IPY_MODEL_bf3965dab72b428c85aa91ddc2d2b7c6",
              "IPY_MODEL_97c9865527284540bd3f95106b2aef03"
            ],
            "layout": "IPY_MODEL_92cb963e69c145eb8c0cdc21f4c2ca2a"
          }
        },
        "bf3965dab72b428c85aa91ddc2d2b7c6": {
          "model_module": "@jupyter-widgets/controls",
          "model_name": "LabelModel",
          "model_module_version": "1.5.0",
          "state": {
            "_dom_classes": [],
            "_model_module": "@jupyter-widgets/controls",
            "_model_module_version": "1.5.0",
            "_model_name": "LabelModel",
            "_view_count": null,
            "_view_module": "@jupyter-widgets/controls",
            "_view_module_version": "1.5.0",
            "_view_name": "LabelView",
            "description": "",
            "description_tooltip": null,
            "layout": "IPY_MODEL_ff4361cdcfc2439e8080fbba4c541450",
            "placeholder": "​",
            "style": "IPY_MODEL_93f7413e12aa4ccc95091146e9af7e23",
            "value": "Waiting for wandb.init()...\r"
          }
        },
        "97c9865527284540bd3f95106b2aef03": {
          "model_module": "@jupyter-widgets/controls",
          "model_name": "FloatProgressModel",
          "model_module_version": "1.5.0",
          "state": {
            "_dom_classes": [],
            "_model_module": "@jupyter-widgets/controls",
            "_model_module_version": "1.5.0",
            "_model_name": "FloatProgressModel",
            "_view_count": null,
            "_view_module": "@jupyter-widgets/controls",
            "_view_module_version": "1.5.0",
            "_view_name": "ProgressView",
            "bar_style": "",
            "description": "",
            "description_tooltip": null,
            "layout": "IPY_MODEL_f29792dba4774f3c83ae8b7785457c11",
            "max": 1,
            "min": 0,
            "orientation": "horizontal",
            "style": "IPY_MODEL_e4bf657d83fb46d8a10d15aaabb23ab3",
            "value": 1
          }
        },
        "92cb963e69c145eb8c0cdc21f4c2ca2a": {
          "model_module": "@jupyter-widgets/base",
          "model_name": "LayoutModel",
          "model_module_version": "1.2.0",
          "state": {
            "_model_module": "@jupyter-widgets/base",
            "_model_module_version": "1.2.0",
            "_model_name": "LayoutModel",
            "_view_count": null,
            "_view_module": "@jupyter-widgets/base",
            "_view_module_version": "1.2.0",
            "_view_name": "LayoutView",
            "align_content": null,
            "align_items": null,
            "align_self": null,
            "border": null,
            "bottom": null,
            "display": null,
            "flex": null,
            "flex_flow": null,
            "grid_area": null,
            "grid_auto_columns": null,
            "grid_auto_flow": null,
            "grid_auto_rows": null,
            "grid_column": null,
            "grid_gap": null,
            "grid_row": null,
            "grid_template_areas": null,
            "grid_template_columns": null,
            "grid_template_rows": null,
            "height": null,
            "justify_content": null,
            "justify_items": null,
            "left": null,
            "margin": null,
            "max_height": null,
            "max_width": null,
            "min_height": null,
            "min_width": null,
            "object_fit": null,
            "object_position": null,
            "order": null,
            "overflow": null,
            "overflow_x": null,
            "overflow_y": null,
            "padding": null,
            "right": null,
            "top": null,
            "visibility": null,
            "width": null
          }
        },
        "ff4361cdcfc2439e8080fbba4c541450": {
          "model_module": "@jupyter-widgets/base",
          "model_name": "LayoutModel",
          "model_module_version": "1.2.0",
          "state": {
            "_model_module": "@jupyter-widgets/base",
            "_model_module_version": "1.2.0",
            "_model_name": "LayoutModel",
            "_view_count": null,
            "_view_module": "@jupyter-widgets/base",
            "_view_module_version": "1.2.0",
            "_view_name": "LayoutView",
            "align_content": null,
            "align_items": null,
            "align_self": null,
            "border": null,
            "bottom": null,
            "display": null,
            "flex": null,
            "flex_flow": null,
            "grid_area": null,
            "grid_auto_columns": null,
            "grid_auto_flow": null,
            "grid_auto_rows": null,
            "grid_column": null,
            "grid_gap": null,
            "grid_row": null,
            "grid_template_areas": null,
            "grid_template_columns": null,
            "grid_template_rows": null,
            "height": null,
            "justify_content": null,
            "justify_items": null,
            "left": null,
            "margin": null,
            "max_height": null,
            "max_width": null,
            "min_height": null,
            "min_width": null,
            "object_fit": null,
            "object_position": null,
            "order": null,
            "overflow": null,
            "overflow_x": null,
            "overflow_y": null,
            "padding": null,
            "right": null,
            "top": null,
            "visibility": null,
            "width": null
          }
        },
        "93f7413e12aa4ccc95091146e9af7e23": {
          "model_module": "@jupyter-widgets/controls",
          "model_name": "DescriptionStyleModel",
          "model_module_version": "1.5.0",
          "state": {
            "_model_module": "@jupyter-widgets/controls",
            "_model_module_version": "1.5.0",
            "_model_name": "DescriptionStyleModel",
            "_view_count": null,
            "_view_module": "@jupyter-widgets/base",
            "_view_module_version": "1.2.0",
            "_view_name": "StyleView",
            "description_width": ""
          }
        },
        "f29792dba4774f3c83ae8b7785457c11": {
          "model_module": "@jupyter-widgets/base",
          "model_name": "LayoutModel",
          "model_module_version": "1.2.0",
          "state": {
            "_model_module": "@jupyter-widgets/base",
            "_model_module_version": "1.2.0",
            "_model_name": "LayoutModel",
            "_view_count": null,
            "_view_module": "@jupyter-widgets/base",
            "_view_module_version": "1.2.0",
            "_view_name": "LayoutView",
            "align_content": null,
            "align_items": null,
            "align_self": null,
            "border": null,
            "bottom": null,
            "display": null,
            "flex": null,
            "flex_flow": null,
            "grid_area": null,
            "grid_auto_columns": null,
            "grid_auto_flow": null,
            "grid_auto_rows": null,
            "grid_column": null,
            "grid_gap": null,
            "grid_row": null,
            "grid_template_areas": null,
            "grid_template_columns": null,
            "grid_template_rows": null,
            "height": null,
            "justify_content": null,
            "justify_items": null,
            "left": null,
            "margin": null,
            "max_height": null,
            "max_width": null,
            "min_height": null,
            "min_width": null,
            "object_fit": null,
            "object_position": null,
            "order": null,
            "overflow": null,
            "overflow_x": null,
            "overflow_y": null,
            "padding": null,
            "right": null,
            "top": null,
            "visibility": null,
            "width": null
          }
        },
        "e4bf657d83fb46d8a10d15aaabb23ab3": {
          "model_module": "@jupyter-widgets/controls",
          "model_name": "ProgressStyleModel",
          "model_module_version": "1.5.0",
          "state": {
            "_model_module": "@jupyter-widgets/controls",
            "_model_module_version": "1.5.0",
            "_model_name": "ProgressStyleModel",
            "_view_count": null,
            "_view_module": "@jupyter-widgets/base",
            "_view_module_version": "1.2.0",
            "_view_name": "StyleView",
            "bar_color": null,
            "description_width": ""
          }
        }
      }
    }
  },
  "nbformat": 4,
  "nbformat_minor": 0
}