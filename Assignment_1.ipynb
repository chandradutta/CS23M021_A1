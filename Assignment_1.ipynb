{
  "nbformat": 4,
  "nbformat_minor": 0,
  "metadata": {
    "colab": {
      "provenance": [],
      "authorship_tag": "ABX9TyM700Al3yCyjjo1nm0uMAC3",
      "include_colab_link": true
    },
    "kernelspec": {
      "name": "python3",
      "display_name": "Python 3"
    },
    "language_info": {
      "name": "python"
    },
    "widgets": {
      "application/vnd.jupyter.widget-state+json": {
        "19a58843c73a49a39c9a03689ea4d0d9": {
          "model_module": "@jupyter-widgets/controls",
          "model_name": "VBoxModel",
          "model_module_version": "1.5.0",
          "state": {
            "_dom_classes": [],
            "_model_module": "@jupyter-widgets/controls",
            "_model_module_version": "1.5.0",
            "_model_name": "VBoxModel",
            "_view_count": null,
            "_view_module": "@jupyter-widgets/controls",
            "_view_module_version": "1.5.0",
            "_view_name": "VBoxView",
            "box_style": "",
            "children": [
              "IPY_MODEL_d692cfe652b6435db858796340ab9a2e",
              "IPY_MODEL_0ebae867e4b8404f968bbb434390ee8d"
            ],
            "layout": "IPY_MODEL_4ac1fa152ea049d5a1eca3c1556468b9"
          }
        },
        "d692cfe652b6435db858796340ab9a2e": {
          "model_module": "@jupyter-widgets/controls",
          "model_name": "LabelModel",
          "model_module_version": "1.5.0",
          "state": {
            "_dom_classes": [],
            "_model_module": "@jupyter-widgets/controls",
            "_model_module_version": "1.5.0",
            "_model_name": "LabelModel",
            "_view_count": null,
            "_view_module": "@jupyter-widgets/controls",
            "_view_module_version": "1.5.0",
            "_view_name": "LabelView",
            "description": "",
            "description_tooltip": null,
            "layout": "IPY_MODEL_68afbb15fea94163b83ea3d2753d5f91",
            "placeholder": "​",
            "style": "IPY_MODEL_8f9be77fe90f4e5db5460018a95d02d9",
            "value": "0.018 MB of 0.018 MB uploaded\r"
          }
        },
        "0ebae867e4b8404f968bbb434390ee8d": {
          "model_module": "@jupyter-widgets/controls",
          "model_name": "FloatProgressModel",
          "model_module_version": "1.5.0",
          "state": {
            "_dom_classes": [],
            "_model_module": "@jupyter-widgets/controls",
            "_model_module_version": "1.5.0",
            "_model_name": "FloatProgressModel",
            "_view_count": null,
            "_view_module": "@jupyter-widgets/controls",
            "_view_module_version": "1.5.0",
            "_view_name": "ProgressView",
            "bar_style": "",
            "description": "",
            "description_tooltip": null,
            "layout": "IPY_MODEL_abccb19eeb744bd5a46454b538bf140e",
            "max": 1,
            "min": 0,
            "orientation": "horizontal",
            "style": "IPY_MODEL_b49c518d4c5946c294a724ac67c8c487",
            "value": 1
          }
        },
        "4ac1fa152ea049d5a1eca3c1556468b9": {
          "model_module": "@jupyter-widgets/base",
          "model_name": "LayoutModel",
          "model_module_version": "1.2.0",
          "state": {
            "_model_module": "@jupyter-widgets/base",
            "_model_module_version": "1.2.0",
            "_model_name": "LayoutModel",
            "_view_count": null,
            "_view_module": "@jupyter-widgets/base",
            "_view_module_version": "1.2.0",
            "_view_name": "LayoutView",
            "align_content": null,
            "align_items": null,
            "align_self": null,
            "border": null,
            "bottom": null,
            "display": null,
            "flex": null,
            "flex_flow": null,
            "grid_area": null,
            "grid_auto_columns": null,
            "grid_auto_flow": null,
            "grid_auto_rows": null,
            "grid_column": null,
            "grid_gap": null,
            "grid_row": null,
            "grid_template_areas": null,
            "grid_template_columns": null,
            "grid_template_rows": null,
            "height": null,
            "justify_content": null,
            "justify_items": null,
            "left": null,
            "margin": null,
            "max_height": null,
            "max_width": null,
            "min_height": null,
            "min_width": null,
            "object_fit": null,
            "object_position": null,
            "order": null,
            "overflow": null,
            "overflow_x": null,
            "overflow_y": null,
            "padding": null,
            "right": null,
            "top": null,
            "visibility": null,
            "width": null
          }
        },
        "68afbb15fea94163b83ea3d2753d5f91": {
          "model_module": "@jupyter-widgets/base",
          "model_name": "LayoutModel",
          "model_module_version": "1.2.0",
          "state": {
            "_model_module": "@jupyter-widgets/base",
            "_model_module_version": "1.2.0",
            "_model_name": "LayoutModel",
            "_view_count": null,
            "_view_module": "@jupyter-widgets/base",
            "_view_module_version": "1.2.0",
            "_view_name": "LayoutView",
            "align_content": null,
            "align_items": null,
            "align_self": null,
            "border": null,
            "bottom": null,
            "display": null,
            "flex": null,
            "flex_flow": null,
            "grid_area": null,
            "grid_auto_columns": null,
            "grid_auto_flow": null,
            "grid_auto_rows": null,
            "grid_column": null,
            "grid_gap": null,
            "grid_row": null,
            "grid_template_areas": null,
            "grid_template_columns": null,
            "grid_template_rows": null,
            "height": null,
            "justify_content": null,
            "justify_items": null,
            "left": null,
            "margin": null,
            "max_height": null,
            "max_width": null,
            "min_height": null,
            "min_width": null,
            "object_fit": null,
            "object_position": null,
            "order": null,
            "overflow": null,
            "overflow_x": null,
            "overflow_y": null,
            "padding": null,
            "right": null,
            "top": null,
            "visibility": null,
            "width": null
          }
        },
        "8f9be77fe90f4e5db5460018a95d02d9": {
          "model_module": "@jupyter-widgets/controls",
          "model_name": "DescriptionStyleModel",
          "model_module_version": "1.5.0",
          "state": {
            "_model_module": "@jupyter-widgets/controls",
            "_model_module_version": "1.5.0",
            "_model_name": "DescriptionStyleModel",
            "_view_count": null,
            "_view_module": "@jupyter-widgets/base",
            "_view_module_version": "1.2.0",
            "_view_name": "StyleView",
            "description_width": ""
          }
        },
        "abccb19eeb744bd5a46454b538bf140e": {
          "model_module": "@jupyter-widgets/base",
          "model_name": "LayoutModel",
          "model_module_version": "1.2.0",
          "state": {
            "_model_module": "@jupyter-widgets/base",
            "_model_module_version": "1.2.0",
            "_model_name": "LayoutModel",
            "_view_count": null,
            "_view_module": "@jupyter-widgets/base",
            "_view_module_version": "1.2.0",
            "_view_name": "LayoutView",
            "align_content": null,
            "align_items": null,
            "align_self": null,
            "border": null,
            "bottom": null,
            "display": null,
            "flex": null,
            "flex_flow": null,
            "grid_area": null,
            "grid_auto_columns": null,
            "grid_auto_flow": null,
            "grid_auto_rows": null,
            "grid_column": null,
            "grid_gap": null,
            "grid_row": null,
            "grid_template_areas": null,
            "grid_template_columns": null,
            "grid_template_rows": null,
            "height": null,
            "justify_content": null,
            "justify_items": null,
            "left": null,
            "margin": null,
            "max_height": null,
            "max_width": null,
            "min_height": null,
            "min_width": null,
            "object_fit": null,
            "object_position": null,
            "order": null,
            "overflow": null,
            "overflow_x": null,
            "overflow_y": null,
            "padding": null,
            "right": null,
            "top": null,
            "visibility": null,
            "width": null
          }
        },
        "b49c518d4c5946c294a724ac67c8c487": {
          "model_module": "@jupyter-widgets/controls",
          "model_name": "ProgressStyleModel",
          "model_module_version": "1.5.0",
          "state": {
            "_model_module": "@jupyter-widgets/controls",
            "_model_module_version": "1.5.0",
            "_model_name": "ProgressStyleModel",
            "_view_count": null,
            "_view_module": "@jupyter-widgets/base",
            "_view_module_version": "1.2.0",
            "_view_name": "StyleView",
            "bar_color": null,
            "description_width": ""
          }
        }
      }
    }
  },
  "cells": [
    {
      "cell_type": "markdown",
      "metadata": {
        "id": "view-in-github",
        "colab_type": "text"
      },
      "source": [
        "<a href=\"https://colab.research.google.com/github/chandradutta/CS23M021_A1/blob/master/Assignment_1.ipynb\" target=\"_parent\"><img src=\"https://colab.research.google.com/assets/colab-badge.svg\" alt=\"Open In Colab\"/></a>"
      ]
    },
    {
      "cell_type": "code",
      "source": [
        "#installing wandb\n",
        "!pip install wandb\n"
      ],
      "metadata": {
        "id": "TFo9z6W_0uLZ"
      },
      "execution_count": null,
      "outputs": []
    },
    {
      "cell_type": "markdown",
      "source": [
        "#Initializing wandb with project name and team name\n",
        "wandb.init(project=\"DL_Assignment_1\", entity=\"cs23m021\")\n"
      ],
      "metadata": {
        "id": "mhTXktos9YYm"
      }
    },
    {
      "cell_type": "code",
      "source": [
        "import wandb\n",
        "import matplotlib.pyplot as plt\n",
        "from keras.datasets import fashion_mnist\n",
        "\n",
        "wandb.init(project=\"fashion-mnist-sample-images\")\n",
        "\n",
        "# Load the Fashion-MNIST dataset\n",
        "(x_train, y_train), (x_test,y_test) = fashion_mnist.load_data()\n",
        "# print (len(train_images[0]))\n",
        "\n",
        "\n",
        "# Defining class names\n",
        "class_names = ['T-shirt/top', 'Trouser', 'Pullover', 'Dress', 'Coat',\n",
        "               'Sandal', 'Shirt', 'Sneaker', 'Bag', 'Ankle boot']\n",
        "\n",
        "plt.figure(figsize=(10, 10))\n",
        "for i in range(len(class_names)):\n",
        "    idx = next(idx for idx, label in enumerate(y_train) if label == i)\n",
        "    plt.subplot(5, 5, i + 1)\n",
        "    plt.xticks([])\n",
        "    plt.yticks([])\n",
        "    plt.grid(False)\n",
        "    plt.imshow(x_train[idx], cmap=plt.cm.binary)\n",
        "    plt.xlabel(class_names[i])\n",
        "    wandb.log({f\"example_{class_names[i]}\": [wandb.Image(x_train[idx], caption=class_names[i])]})\n",
        "\n",
        "wandb.finish()\n"
      ],
      "metadata": {
        "id": "mwNOjXk8_NdV",
        "colab": {
          "base_uri": "https://localhost:8080/",
          "height": 713,
          "referenced_widgets": [
            "19a58843c73a49a39c9a03689ea4d0d9",
            "d692cfe652b6435db858796340ab9a2e",
            "0ebae867e4b8404f968bbb434390ee8d",
            "4ac1fa152ea049d5a1eca3c1556468b9",
            "68afbb15fea94163b83ea3d2753d5f91",
            "8f9be77fe90f4e5db5460018a95d02d9",
            "abccb19eeb744bd5a46454b538bf140e",
            "b49c518d4c5946c294a724ac67c8c487"
          ]
        },
        "outputId": "d317d444-f0bf-4904-81b0-b92ceb9c4288"
      },
      "execution_count": 2,
      "outputs": [
        {
          "output_type": "display_data",
          "data": {
            "text/plain": [
              "<IPython.core.display.Javascript object>"
            ],
            "application/javascript": [
              "\n",
              "        window._wandbApiKey = new Promise((resolve, reject) => {\n",
              "            function loadScript(url) {\n",
              "            return new Promise(function(resolve, reject) {\n",
              "                let newScript = document.createElement(\"script\");\n",
              "                newScript.onerror = reject;\n",
              "                newScript.onload = resolve;\n",
              "                document.body.appendChild(newScript);\n",
              "                newScript.src = url;\n",
              "            });\n",
              "            }\n",
              "            loadScript(\"https://cdn.jsdelivr.net/npm/postmate/build/postmate.min.js\").then(() => {\n",
              "            const iframe = document.createElement('iframe')\n",
              "            iframe.style.cssText = \"width:0;height:0;border:none\"\n",
              "            document.body.appendChild(iframe)\n",
              "            const handshake = new Postmate({\n",
              "                container: iframe,\n",
              "                url: 'https://wandb.ai/authorize'\n",
              "            });\n",
              "            const timeout = setTimeout(() => reject(\"Couldn't auto authenticate\"), 5000)\n",
              "            handshake.then(function(child) {\n",
              "                child.on('authorize', data => {\n",
              "                    clearTimeout(timeout)\n",
              "                    resolve(data)\n",
              "                });\n",
              "            });\n",
              "            })\n",
              "        });\n",
              "    "
            ]
          },
          "metadata": {}
        },
        {
          "output_type": "stream",
          "name": "stderr",
          "text": [
            "\u001b[34m\u001b[1mwandb\u001b[0m: Logging into wandb.ai. (Learn how to deploy a W&B server locally: https://wandb.me/wandb-server)\n",
            "\u001b[34m\u001b[1mwandb\u001b[0m: You can find your API key in your browser here: https://wandb.ai/authorize\n",
            "wandb: Paste an API key from your profile and hit enter, or press ctrl+c to quit:"
          ]
        },
        {
          "name": "stdout",
          "output_type": "stream",
          "text": [
            " ··········\n"
          ]
        },
        {
          "output_type": "stream",
          "name": "stderr",
          "text": [
            "\u001b[34m\u001b[1mwandb\u001b[0m: Appending key for api.wandb.ai to your netrc file: /root/.netrc\n"
          ]
        },
        {
          "output_type": "display_data",
          "data": {
            "text/plain": [
              "<IPython.core.display.HTML object>"
            ],
            "text/html": [
              "Tracking run with wandb version 0.16.4"
            ]
          },
          "metadata": {}
        },
        {
          "output_type": "display_data",
          "data": {
            "text/plain": [
              "<IPython.core.display.HTML object>"
            ],
            "text/html": [
              "Run data is saved locally in <code>/content/wandb/run-20240309_040730-18zcp2rg</code>"
            ]
          },
          "metadata": {}
        },
        {
          "output_type": "display_data",
          "data": {
            "text/plain": [
              "<IPython.core.display.HTML object>"
            ],
            "text/html": [
              "Syncing run <strong><a href='https://wandb.ai/cs23m021/fashion-mnist-sample-images/runs/18zcp2rg' target=\"_blank\">absurd-plant-13</a></strong> to <a href='https://wandb.ai/cs23m021/fashion-mnist-sample-images' target=\"_blank\">Weights & Biases</a> (<a href='https://wandb.me/run' target=\"_blank\">docs</a>)<br/>"
            ]
          },
          "metadata": {}
        },
        {
          "output_type": "display_data",
          "data": {
            "text/plain": [
              "<IPython.core.display.HTML object>"
            ],
            "text/html": [
              " View project at <a href='https://wandb.ai/cs23m021/fashion-mnist-sample-images' target=\"_blank\">https://wandb.ai/cs23m021/fashion-mnist-sample-images</a>"
            ]
          },
          "metadata": {}
        },
        {
          "output_type": "display_data",
          "data": {
            "text/plain": [
              "<IPython.core.display.HTML object>"
            ],
            "text/html": [
              " View run at <a href='https://wandb.ai/cs23m021/fashion-mnist-sample-images/runs/18zcp2rg' target=\"_blank\">https://wandb.ai/cs23m021/fashion-mnist-sample-images/runs/18zcp2rg</a>"
            ]
          },
          "metadata": {}
        },
        {
          "output_type": "stream",
          "name": "stdout",
          "text": [
            "Downloading data from https://storage.googleapis.com/tensorflow/tf-keras-datasets/train-labels-idx1-ubyte.gz\n",
            "29515/29515 [==============================] - 0s 0us/step\n",
            "Downloading data from https://storage.googleapis.com/tensorflow/tf-keras-datasets/train-images-idx3-ubyte.gz\n",
            "26421880/26421880 [==============================] - 0s 0us/step\n",
            "Downloading data from https://storage.googleapis.com/tensorflow/tf-keras-datasets/t10k-labels-idx1-ubyte.gz\n",
            "5148/5148 [==============================] - 0s 0us/step\n",
            "Downloading data from https://storage.googleapis.com/tensorflow/tf-keras-datasets/t10k-images-idx3-ubyte.gz\n",
            "4422102/4422102 [==============================] - 0s 0us/step\n"
          ]
        },
        {
          "output_type": "display_data",
          "data": {
            "text/plain": [
              "VBox(children=(Label(value='0.018 MB of 0.018 MB uploaded\\r'), FloatProgress(value=1.0, max=1.0)))"
            ],
            "application/vnd.jupyter.widget-view+json": {
              "version_major": 2,
              "version_minor": 0,
              "model_id": "19a58843c73a49a39c9a03689ea4d0d9"
            }
          },
          "metadata": {}
        },
        {
          "output_type": "display_data",
          "data": {
            "text/plain": [
              "<IPython.core.display.HTML object>"
            ],
            "text/html": [
              " View run <strong style=\"color:#cdcd00\">absurd-plant-13</strong> at: <a href='https://wandb.ai/cs23m021/fashion-mnist-sample-images/runs/18zcp2rg' target=\"_blank\">https://wandb.ai/cs23m021/fashion-mnist-sample-images/runs/18zcp2rg</a><br/>Synced 5 W&B file(s), 10 media file(s), 0 artifact file(s) and 0 other file(s)"
            ]
          },
          "metadata": {}
        },
        {
          "output_type": "display_data",
          "data": {
            "text/plain": [
              "<IPython.core.display.HTML object>"
            ],
            "text/html": [
              "Find logs at: <code>./wandb/run-20240309_040730-18zcp2rg/logs</code>"
            ]
          },
          "metadata": {}
        },
        {
          "output_type": "display_data",
          "data": {
            "text/plain": [
              "<Figure size 1000x1000 with 10 Axes>"
            ],
            "image/png": "[encoded data removed]"
          },
          "metadata": {}
        }
      ]
    },
    {
      "cell_type": "code",
      "source": [
        "import numpy as np\n",
        "def w(num_of_layers):\n",
        "  ws=[]\n",
        "  ns=[]\n",
        "  bs=[]\n",
        "  for i in range(num_of_layers):\n",
        "    ns.append(int(input()))\n",
        "  # return ns\n",
        "  ws.append(np.random.rand(ns[0],784))\n",
        "  bs.append(np.random.rand(ns[0],1))\n",
        "  for i in range(1,num_of_layers):\n",
        "    ws.append(np.random.rand(ns[i],ns[i-1]))\n",
        "    bs.append(np.random.rand(ns[i],1))\n",
        "  ws.append(bs)\n",
        "num_of_layers=int(input())\n",
        "theta=w(num_of_layers)\n"
      ],
      "metadata": {
        "id": "OPGCT0GwCmYN",
        "colab": {
          "base_uri": "https://localhost:8080/",
          "height": 1000
        },
        "outputId": "5f732552-bd61-4d87-f429-01d9f0cd7db1"
      },
      "execution_count": 17,
      "outputs": [
        {
          "output_type": "stream",
          "name": "stdout",
          "text": [
            "2\n",
            "15\n",
            "42\n",
            "[array([[0.4657442 , 0.73796633, 0.43312294, ..., 0.68575991, 0.45440129,\n",
            "        0.07812   ],\n",
            "       [0.33814397, 0.49416091, 0.45340414, ..., 0.09793473, 0.85477917,\n",
            "        0.00826408],\n",
            "       [0.39813845, 0.17724463, 0.71908355, ..., 0.37684291, 0.13923552,\n",
            "        0.0740181 ],\n",
            "       ...,\n",
            "       [0.25375298, 0.31373618, 0.61290767, ..., 0.1402882 , 0.8088048 ,\n",
            "        0.96462722],\n",
            "       [0.62622558, 0.80759456, 0.43444559, ..., 0.87201615, 0.71611514,\n",
            "        0.71480111],\n",
            "       [0.35342851, 0.63969493, 0.51319879, ..., 0.26747813, 0.65746149,\n",
            "        0.64868389]]), array([[9.11850545e-01, 7.77708669e-01, 9.10045074e-01, 1.31431492e-01,\n",
            "        9.44781436e-01, 2.74657809e-01, 1.38860216e-01, 3.88980634e-01,\n",
            "        4.90389616e-01, 6.20010398e-02, 7.46698238e-01, 3.55320935e-01,\n",
            "        1.40147185e-02, 9.41786087e-01, 5.03142284e-01],\n",
            "       [1.99920572e-01, 4.79851421e-01, 7.40366748e-01, 8.80259326e-01,\n",
            "        6.38580985e-02, 5.10502888e-01, 9.73132923e-01, 5.66740177e-01,\n",
            "        5.05073651e-01, 9.17843211e-01, 5.39222196e-01, 8.17409898e-02,\n",
            "        1.28472518e-01, 4.28136268e-01, 3.84816570e-01],\n",
            "       [6.31709255e-01, 6.68127837e-02, 5.96564634e-01, 7.75935065e-01,\n",
            "        4.63691396e-02, 3.16755474e-01, 3.11921200e-01, 5.20282868e-02,\n",
            "        1.54918781e-01, 3.48803266e-01, 6.22094360e-01, 4.89036467e-01,\n",
            "        1.37355117e-01, 1.32574475e-01, 2.88902617e-01],\n",
            "       [5.09588221e-01, 4.98083294e-01, 6.33855829e-01, 6.71804238e-01,\n",
            "        3.44563162e-01, 9.42759003e-01, 6.35445703e-01, 7.47729266e-01,\n",
            "        9.08180412e-01, 5.26399524e-01, 5.86736152e-01, 9.71502607e-01,\n",
            "        8.87662215e-01, 5.01695759e-01, 6.52684521e-01],\n",
            "       [4.98170009e-01, 8.86831017e-01, 9.31073155e-01, 8.56870355e-02,\n",
            "        9.12166594e-01, 6.19512189e-01, 5.68433215e-01, 7.38036758e-01,\n",
            "        2.40296943e-01, 4.66363257e-01, 1.24861593e-01, 1.71953442e-01,\n",
            "        8.20352534e-01, 3.63840342e-01, 9.68473700e-01],\n",
            "       [9.37817400e-01, 8.48610294e-01, 3.26940501e-01, 4.61312249e-01,\n",
            "        1.34366445e-01, 9.72386257e-01, 5.47397462e-03, 5.60825504e-01,\n",
            "        2.43721549e-01, 6.86296086e-02, 9.90163717e-01, 5.05740908e-01,\n",
            "        9.42471531e-01, 4.87932703e-01, 4.49416787e-01],\n",
            "       [4.09297143e-01, 1.89042444e-01, 7.70337483e-01, 9.81969441e-01,\n",
            "        4.70127939e-01, 7.93178261e-01, 2.98509184e-01, 9.76727653e-01,\n",
            "        8.56040693e-02, 1.71572762e-01, 8.38599370e-01, 5.53954780e-01,\n",
            "        3.73709253e-01, 1.27722615e-01, 1.50961053e-01],\n",
            "       [8.63323822e-01, 9.58454167e-01, 2.18221911e-01, 4.22699099e-01,\n",
            "        4.99329447e-01, 6.06595149e-01, 7.59137146e-01, 4.00664015e-01,\n",
            "        4.35909936e-01, 2.50342320e-02, 8.35133845e-01, 4.18280597e-01,\n",
            "        4.50704238e-01, 2.11366293e-01, 1.03368805e-01],\n",
            "       [8.41306305e-01, 5.10486887e-02, 8.54463245e-01, 6.70563127e-01,\n",
            "        1.17603844e-01, 1.08203617e-01, 7.40086494e-01, 1.86938715e-01,\n",
            "        7.05292141e-02, 2.88405920e-01, 4.85373860e-01, 7.01739251e-01,\n",
            "        9.25486714e-01, 5.21067992e-01, 9.56679202e-01],\n",
            "       [9.07447267e-01, 5.55771706e-01, 9.89335139e-02, 2.53747592e-01,\n",
            "        1.20263532e-01, 9.97894864e-01, 1.12837615e-01, 2.26601969e-01,\n",
            "        2.96011342e-02, 3.43107824e-01, 5.42526158e-01, 7.34822479e-01,\n",
            "        2.68443363e-01, 9.17899884e-01, 7.30102743e-01],\n",
            "       [7.88108933e-01, 3.01894003e-01, 3.89562750e-01, 7.25826152e-01,\n",
            "        2.55342034e-01, 2.66063829e-01, 3.12232682e-01, 5.94753059e-01,\n",
            "        2.05431549e-01, 1.98695965e-01, 6.74817841e-01, 6.41700201e-01,\n",
            "        1.07618656e-01, 8.70129555e-01, 9.22106648e-01],\n",
            "       [7.43573965e-01, 8.03020098e-01, 1.99786390e-01, 3.41541788e-02,\n",
            "        4.99967556e-01, 1.02348875e-01, 7.36641885e-01, 1.13236118e-01,\n",
            "        9.66329147e-01, 3.29222694e-02, 5.93317443e-01, 4.12330190e-02,\n",
            "        8.31211300e-01, 4.32028620e-01, 7.13585945e-01],\n",
            "       [3.34334825e-01, 5.70497380e-03, 1.88838633e-01, 9.38764576e-01,\n",
            "        8.00751168e-01, 4.73475434e-01, 7.54804451e-01, 8.99279774e-01,\n",
            "        6.94727857e-01, 3.37273176e-01, 6.18873073e-01, 9.29688087e-01,\n",
            "        5.24964083e-01, 9.73330316e-01, 2.69763208e-02],\n",
            "       [4.53342840e-01, 2.47976519e-02, 8.96779864e-01, 3.10792932e-01,\n",
            "        7.26920770e-01, 7.39987285e-01, 6.54694671e-02, 6.67716662e-01,\n",
            "        1.99014327e-01, 3.76777855e-01, 8.32211188e-01, 1.96291320e-01,\n",
            "        5.93147742e-01, 9.95436762e-02, 8.79125831e-01],\n",
            "       [6.34050089e-01, 3.06184912e-02, 1.77116874e-02, 3.66172112e-02,\n",
            "        5.77461118e-01, 9.94487666e-01, 6.09210469e-01, 9.44903397e-01,\n",
            "        1.17731791e-01, 6.59697467e-01, 7.65817307e-02, 3.86344640e-01,\n",
            "        5.59118824e-01, 3.69258377e-01, 2.04630889e-02],\n",
            "       [7.00185201e-01, 5.13543846e-01, 9.44159058e-01, 5.73491197e-01,\n",
            "        5.43912973e-01, 1.14179736e-01, 5.06656254e-01, 6.55376475e-01,\n",
            "        4.41525854e-01, 2.65987606e-01, 9.88912084e-01, 2.49673384e-02,\n",
            "        7.63087840e-01, 9.13808939e-01, 4.70952560e-01],\n",
            "       [3.24728820e-01, 7.22060133e-01, 7.16630046e-01, 6.40286304e-01,\n",
            "        8.26234923e-01, 2.63129073e-01, 2.62563114e-01, 3.55441636e-01,\n",
            "        2.33694870e-01, 1.58565606e-01, 2.14838452e-01, 1.29898887e-01,\n",
            "        9.67255632e-01, 1.36580827e-01, 9.56745747e-01],\n",
            "       [2.39166654e-02, 1.31830711e-01, 5.76641804e-01, 7.62110000e-01,\n",
            "        4.25103242e-01, 8.11265709e-01, 7.21412583e-01, 8.82179378e-01,\n",
            "        2.52290110e-01, 6.13368822e-01, 7.88707054e-02, 9.68926997e-03,\n",
            "        8.80439765e-01, 1.11718077e-01, 2.17942904e-01],\n",
            "       [5.23880822e-01, 7.58512741e-01, 4.11766882e-01, 6.97900546e-01,\n",
            "        5.12408068e-01, 4.80596949e-01, 1.90908846e-01, 9.55469602e-01,\n",
            "        9.35932796e-01, 7.20434111e-01, 7.52744874e-01, 8.13729888e-01,\n",
            "        1.52299048e-01, 7.20191111e-01, 8.89298480e-01],\n",
            "       [2.13711436e-01, 3.86470578e-01, 4.91316337e-01, 4.58209258e-01,\n",
            "        6.96365719e-02, 1.19541953e-01, 9.50868787e-01, 4.35980743e-01,\n",
            "        5.05216780e-02, 2.42431163e-02, 9.68314248e-01, 9.13275827e-02,\n",
            "        7.05643742e-01, 9.30503312e-01, 6.89776990e-01],\n",
            "       [1.75179272e-01, 5.75852287e-02, 5.95645950e-01, 4.86242873e-02,\n",
            "        3.80572092e-02, 3.93551659e-01, 7.00609691e-01, 8.46090500e-01,\n",
            "        1.53009389e-01, 1.02910045e-01, 9.49530207e-01, 4.52682554e-01,\n",
            "        8.62639275e-01, 4.82848076e-01, 6.82203941e-01],\n",
            "       [5.78411197e-01, 8.88973340e-01, 3.11314456e-01, 8.77008265e-01,\n",
            "        3.27525869e-01, 8.77137690e-01, 8.25373041e-01, 3.37840623e-01,\n",
            "        8.06219555e-01, 7.34974746e-01, 8.09086557e-01, 9.22643116e-01,\n",
            "        6.20679434e-01, 1.81581609e-01, 9.38198712e-01],\n",
            "       [7.46002642e-01, 7.65192903e-01, 2.03168068e-01, 7.14170169e-01,\n",
            "        5.04367480e-02, 3.84660405e-01, 3.09390983e-01, 1.41242220e-01,\n",
            "        1.26297715e-01, 3.65782005e-01, 5.29875727e-01, 2.81333092e-01,\n",
            "        4.90745025e-01, 7.52717585e-01, 9.11558537e-02],\n",
            "       [6.31545494e-01, 8.21622270e-01, 8.74884804e-01, 9.71927916e-01,\n",
            "        6.88796061e-02, 5.99219794e-01, 1.82571643e-01, 4.22361569e-01,\n",
            "        3.19399356e-01, 1.09054439e-01, 7.73133537e-01, 9.38587597e-01,\n",
            "        6.31099264e-01, 3.66253318e-01, 4.30660416e-01],\n",
            "       [6.75554977e-01, 6.77218701e-02, 2.56163423e-01, 3.09787673e-01,\n",
            "        7.37865741e-02, 7.10541792e-01, 4.68735183e-02, 6.25047429e-01,\n",
            "        8.87520253e-01, 6.93558593e-01, 4.48061865e-01, 7.01707849e-01,\n",
            "        8.65942673e-01, 6.36372271e-01, 7.65394438e-01],\n",
            "       [7.61914617e-02, 5.75160232e-01, 4.16699137e-02, 1.94447257e-01,\n",
            "        1.56149607e-01, 5.62445791e-01, 8.37679797e-01, 3.02307417e-01,\n",
            "        6.99628457e-01, 7.47656405e-01, 8.92676923e-01, 6.26892915e-01,\n",
            "        5.20065055e-01, 5.19280464e-01, 6.81181580e-02],\n",
            "       [2.66339214e-01, 3.88620977e-01, 8.28304385e-03, 3.80318595e-01,\n",
            "        1.33749781e-01, 3.72246186e-01, 4.93785123e-01, 3.32253858e-01,\n",
            "        5.70070619e-01, 6.11926735e-01, 1.26128846e-01, 9.09944430e-01,\n",
            "        3.48139535e-01, 8.41308348e-01, 3.43758213e-01],\n",
            "       [9.39988260e-01, 1.03636244e-01, 9.41018204e-01, 8.34879221e-01,\n",
            "        1.28152602e-01, 8.35581824e-01, 9.45536401e-02, 3.07445640e-02,\n",
            "        9.99052905e-01, 6.78487418e-02, 3.57839773e-01, 6.68589382e-01,\n",
            "        2.03813760e-02, 5.19861207e-01, 4.50443960e-01],\n",
            "       [8.01349125e-01, 7.78161025e-01, 9.46804744e-01, 9.80310762e-01,\n",
            "        7.75496938e-01, 9.65668923e-01, 4.78150654e-01, 8.64444160e-01,\n",
            "        3.05101749e-01, 3.91857569e-01, 7.96683755e-01, 2.35910564e-01,\n",
            "        1.46508996e-01, 1.28213431e-01, 6.69634035e-02],\n",
            "       [7.99406699e-01, 1.33661652e-01, 2.64155503e-01, 3.41275358e-01,\n",
            "        2.85878567e-01, 9.63858809e-01, 3.96868652e-01, 7.37389005e-01,\n",
            "        5.09749846e-01, 1.65804954e-01, 3.86238923e-01, 4.11726351e-01,\n",
            "        2.78788087e-01, 8.89948976e-01, 5.86834084e-01],\n",
            "       [5.61291960e-01, 7.17338022e-01, 2.89121750e-01, 3.50519600e-01,\n",
            "        6.78332237e-01, 3.49880403e-04, 9.59045630e-01, 4.87748674e-02,\n",
            "        7.04138243e-01, 8.45901393e-01, 1.75161841e-01, 9.57743780e-01,\n",
            "        2.00886391e-01, 9.07235847e-01, 1.31823768e-01],\n",
            "       [9.87254370e-02, 7.46256955e-01, 9.74880865e-01, 4.02477881e-01,\n",
            "        7.26095677e-01, 3.37109127e-01, 8.49495100e-01, 5.46353740e-02,\n",
            "        1.07862512e-01, 1.17093862e-01, 5.62293165e-01, 1.80123934e-01,\n",
            "        7.41235597e-01, 9.70185331e-01, 9.95896450e-01],\n",
            "       [7.56925351e-01, 5.19681252e-01, 4.89738671e-01, 7.90706363e-01,\n",
            "        7.60909596e-01, 6.35771919e-01, 6.18443729e-01, 7.65007956e-01,\n",
            "        7.64988109e-01, 4.68417806e-01, 3.02102129e-01, 9.02479783e-02,\n",
            "        9.68002213e-01, 8.75442797e-01, 5.38436965e-01],\n",
            "       [2.95553628e-01, 6.01903247e-01, 3.26570711e-01, 9.77234624e-01,\n",
            "        2.22723620e-01, 8.01617571e-01, 6.83087374e-01, 9.40778875e-01,\n",
            "        4.83706059e-01, 2.05774470e-01, 5.73248487e-01, 7.00577762e-01,\n",
            "        8.96496680e-01, 7.64638624e-01, 8.44326667e-01],\n",
            "       [6.95115210e-02, 3.81157542e-01, 8.02520483e-01, 4.09488516e-01,\n",
            "        3.03376067e-01, 1.45962187e-02, 6.96364512e-01, 9.32430627e-01,\n",
            "        7.08103268e-01, 2.25338321e-01, 2.89690138e-01, 7.67488603e-01,\n",
            "        4.49031698e-01, 3.02350262e-01, 6.69168195e-01],\n",
            "       [5.83529051e-01, 1.26126099e-01, 9.70641968e-01, 1.30847451e-01,\n",
            "        1.80647032e-01, 4.12658550e-01, 6.45143375e-01, 8.82668249e-02,\n",
            "        9.10249260e-01, 2.08872796e-01, 7.36802008e-01, 4.73255806e-01,\n",
            "        6.13865145e-01, 5.32114115e-01, 6.57959654e-01],\n",
            "       [3.78020767e-01, 2.62926982e-02, 2.41896406e-01, 6.83372140e-01,\n",
            "        8.48089751e-01, 5.18175909e-01, 3.12886384e-01, 8.82326440e-01,\n",
            "        1.90865442e-01, 9.68267008e-01, 8.41387439e-01, 5.59697661e-01,\n",
            "        7.65291492e-01, 8.98343273e-01, 2.21459516e-01],\n",
            "       [4.10639480e-01, 9.90155161e-01, 4.63961059e-01, 8.65525884e-01,\n",
            "        3.53739957e-01, 4.65323350e-01, 8.85827069e-01, 1.22520279e-01,\n",
            "        5.09633221e-01, 1.13128723e-02, 4.91930035e-01, 4.69951010e-01,\n",
            "        5.64113721e-02, 7.59881645e-01, 4.82693160e-01],\n",
            "       [1.73035721e-01, 4.42779398e-01, 1.29844032e-01, 4.75556249e-01,\n",
            "        5.08820097e-01, 2.00941138e-01, 7.35146958e-01, 9.04524964e-01,\n",
            "        8.75340761e-01, 4.01347562e-01, 8.30801908e-01, 5.95482024e-01,\n",
            "        8.02846114e-01, 4.12387883e-01, 6.31704360e-01],\n",
            "       [1.51761047e-02, 9.44368444e-01, 9.44057521e-01, 2.75646969e-01,\n",
            "        9.29483806e-01, 4.93630130e-01, 9.04999510e-01, 9.97424664e-01,\n",
            "        5.46204600e-02, 4.19694546e-01, 2.22200978e-01, 7.05570000e-01,\n",
            "        6.80540642e-01, 5.67077461e-01, 4.63965743e-01],\n",
            "       [1.38317588e-01, 9.39088171e-01, 4.66459815e-01, 4.42017635e-01,\n",
            "        1.74684460e-01, 2.28844737e-01, 4.19906504e-01, 1.44506121e-01,\n",
            "        6.82467681e-01, 6.42028911e-02, 6.56166907e-01, 9.33431907e-01,\n",
            "        5.44106876e-01, 5.11342140e-01, 8.64544203e-01],\n",
            "       [7.13557724e-01, 5.18746986e-01, 4.80898565e-01, 4.28238061e-01,\n",
            "        7.79303885e-01, 6.58344768e-01, 4.62525495e-01, 2.10786711e-01,\n",
            "        3.35666098e-01, 1.80563352e-01, 7.83688708e-01, 2.17500332e-01,\n",
            "        8.62801246e-01, 9.23652582e-01, 5.79449392e-01]]), [array([[0.19823023],\n",
            "       [0.46639008],\n",
            "       [0.3586628 ],\n",
            "       [0.90717071],\n",
            "       [0.44810151],\n",
            "       [0.22825973],\n",
            "       [0.06898162],\n",
            "       [0.59978969],\n",
            "       [0.14974029],\n",
            "       [0.06926951],\n",
            "       [0.25146271],\n",
            "       [0.65586882],\n",
            "       [0.55871212],\n",
            "       [0.16979638],\n",
            "       [0.82497187]]), array([[0.20754692],\n",
            "       [0.55850091],\n",
            "       [0.88784131],\n",
            "       [0.25455271],\n",
            "       [0.3079602 ],\n",
            "       [0.4487121 ],\n",
            "       [0.72428544],\n",
            "       [0.2052937 ],\n",
            "       [0.12684254],\n",
            "       [0.71292366],\n",
            "       [0.79822178],\n",
            "       [0.51922263],\n",
            "       [0.74980681],\n",
            "       [0.97716446],\n",
            "       [0.05363782],\n",
            "       [0.20099663],\n",
            "       [0.71221598],\n",
            "       [0.78213615],\n",
            "       [0.15027881],\n",
            "       [0.57973455],\n",
            "       [0.43554908],\n",
            "       [0.17600318],\n",
            "       [0.47792042],\n",
            "       [0.27641593],\n",
            "       [0.61241682],\n",
            "       [0.38728533],\n",
            "       [0.57223953],\n",
            "       [0.74703006],\n",
            "       [0.96092053],\n",
            "       [0.75119001],\n",
            "       [0.55530227],\n",
            "       [0.76061679],\n",
            "       [0.33197163],\n",
            "       [0.43829758],\n",
            "       [0.68497953],\n",
            "       [0.90548758],\n",
            "       [0.94935437],\n",
            "       [0.67250136],\n",
            "       [0.52037983],\n",
            "       [0.76919275],\n",
            "       [0.9168739 ],\n",
            "       [0.50775626]])]]\n"
          ]
        },
        {
          "output_type": "error",
          "ename": "AttributeError",
          "evalue": "'list' object has no attribute 'shape'",
          "traceback": [
            "\u001b[0;31m---------------------------------------------------------------------------\u001b[0m",
            "\u001b[0;31mAttributeError\u001b[0m                            Traceback (most recent call last)",
            "\u001b[0;32m<ipython-input-17-66c4f073c721>\u001b[0m in \u001b[0;36m<cell line: 19>\u001b[0;34m()\u001b[0m\n\u001b[1;32m     17\u001b[0m \u001b[0mtheta\u001b[0m\u001b[0;34m=\u001b[0m\u001b[0mw\u001b[0m\u001b[0;34m(\u001b[0m\u001b[0mnum_of_layers\u001b[0m\u001b[0;34m)\u001b[0m\u001b[0;34m\u001b[0m\u001b[0;34m\u001b[0m\u001b[0m\n\u001b[1;32m     18\u001b[0m \u001b[0mprint\u001b[0m\u001b[0;34m(\u001b[0m\u001b[0mtheta\u001b[0m\u001b[0;34m)\u001b[0m\u001b[0;34m\u001b[0m\u001b[0;34m\u001b[0m\u001b[0m\n\u001b[0;32m---> 19\u001b[0;31m \u001b[0mprint\u001b[0m\u001b[0;34m(\u001b[0m\u001b[0mtheta\u001b[0m\u001b[0;34m[\u001b[0m\u001b[0;34m-\u001b[0m\u001b[0;36m1\u001b[0m\u001b[0;34m]\u001b[0m\u001b[0;34m.\u001b[0m\u001b[0mshape\u001b[0m\u001b[0;34m)\u001b[0m\u001b[0;34m\u001b[0m\u001b[0;34m\u001b[0m\u001b[0m\n\u001b[0m\u001b[1;32m     20\u001b[0m \u001b[0mprint\u001b[0m\u001b[0;34m(\u001b[0m\u001b[0mtheta\u001b[0m\u001b[0;34m[\u001b[0m\u001b[0;36m1\u001b[0m\u001b[0;34m]\u001b[0m\u001b[0;34m.\u001b[0m\u001b[0mshape\u001b[0m\u001b[0;34m)\u001b[0m\u001b[0;34m\u001b[0m\u001b[0;34m\u001b[0m\u001b[0m\n",
            "\u001b[0;31mAttributeError\u001b[0m: 'list' object has no attribute 'shape'"
          ]
        }
      ]
    }
  ]
}