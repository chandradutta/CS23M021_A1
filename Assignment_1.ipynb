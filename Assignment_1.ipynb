{
  "nbformat": 4,
  "nbformat_minor": 0,
  "metadata": {
    "colab": {
      "provenance": [],
      "authorship_tag": "ABX9TyPeJjRdcBAv6B32jLigpyhF",
      "include_colab_link": true
    },
    "kernelspec": {
      "name": "python3",
      "display_name": "Python 3"
    },
    "language_info": {
      "name": "python"
    }
  },
  "cells": [
    {
      "cell_type": "markdown",
      "metadata": {
        "id": "view-in-github",
        "colab_type": "text"
      },
      "source": [
        "<a href=\"https://colab.research.google.com/github/chandradutta/CS23M021_A1/blob/master/Mnist.ipynb\" target=\"_parent\"><img src=\"https://colab.research.google.com/assets/colab-badge.svg\" alt=\"Open In Colab\"/></a>"
      ]
    },
    {
      "cell_type": "code",
      "source": [
        "#installing wandb\n",
        "!pip install wandb\n"
      ],
      "metadata": {
        "id": "TFo9z6W_0uLZ"
      },
      "execution_count": null,
      "outputs": []
    },
    {
      "cell_type": "markdown",
      "source": [
        "#Initializing wandb with project name and team name\n",
        "wandb.init(project=\"DL_Assignment_1\", entity=\"cs23m021\")\n"
      ],
      "metadata": {
        "id": "mhTXktos9YYm"
      }
    },
    {
      "cell_type": "code",
      "source": [
        "import wandb\n",
        "import matplotlib.pyplot as plt\n",
        "from keras.datasets import fashion_mnist\n",
        "\n",
        "wandb.init(project=\"fashion-mnist-sample-images\")\n",
        "\n",
        "# Load the Fashion-MNIST dataset\n",
        "(x_train, y_train), (x_test,y_test) = fashion_mnist.load_data()\n",
        "# print (len(train_images[0]))\n",
        "\n",
        "\n",
        "# Defining class names\n",
        "class_names = ['T-shirt/top', 'Trouser', 'Pullover', 'Dress', 'Coat',\n",
        "               'Sandal', 'Shirt', 'Sneaker', 'Bag', 'Ankle boot']\n",
        "\n",
        "plt.figure(figsize=(10, 10))\n",
        "for i in range(len(class_names)):\n",
        "    idx = next(idx for idx, label in enumerate(y_train) if label == i)\n",
        "    plt.subplot(5, 5, i + 1)\n",
        "    plt.xticks([])\n",
        "    plt.yticks([])\n",
        "    plt.grid(False)\n",
        "    plt.imshow(x_train[idx], cmap=plt.cm.binary)\n",
        "    plt.xlabel(class_names[i])\n",
        "    wandb.log({f\"example_{class_names[i]}\": [wandb.Image(x_train[idx], caption=class_names[i])]})\n",
        "\n",
        "wandb.finish()\n"
      ],
      "metadata": {
        "id": "mwNOjXk8_NdV"
      },
      "execution_count": null,
      "outputs": []
    },
    {
      "cell_type": "code",
      "source": [],
      "metadata": {
        "id": "OPGCT0GwCmYN"
      },
      "execution_count": null,
      "outputs": []
    }
  ]
}
